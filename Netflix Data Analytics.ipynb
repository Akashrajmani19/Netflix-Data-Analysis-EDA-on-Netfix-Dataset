{
 "cells": [
  {
   "cell_type": "markdown",
   "id": "d93c724b-69f0-407c-be27-aa70e3d30f79",
   "metadata": {},
   "source": [
    "## Importing used modules and libraries"
   ]
  },
  {
   "cell_type": "code",
   "execution_count": 1,
   "id": "79e2a5ca-deb4-41f1-8f01-934d55d1056e",
   "metadata": {
    "tags": []
   },
   "outputs": [],
   "source": [
    "import pandas as pd\n",
    "import seaborn as sb"
   ]
  },
  {
   "cell_type": "markdown",
   "id": "3d561147-230e-45bd-af4e-d12e3a52201e",
   "metadata": {},
   "source": [
    "## Import data to analysis"
   ]
  },
  {
   "cell_type": "code",
   "execution_count": 2,
   "id": "7cb04fe4-42ff-490e-ab28-74d189b674d9",
   "metadata": {
    "tags": []
   },
   "outputs": [],
   "source": [
    "Netflix_Data=pd.read_csv('Netflix Dataset.csv')"
   ]
  },
  {
   "cell_type": "code",
   "execution_count": 3,
   "id": "84624d1f-dc92-478c-bcb0-b59bfa3e1ef0",
   "metadata": {
    "tags": []
   },
   "outputs": [],
   "source": [
    "pd.set_option('display.max_columns',None)\n",
    "pd.set_option('display.max_rows',None)"
   ]
  },
  {
   "cell_type": "code",
   "execution_count": 4,
   "id": "880c07ea-7f4f-4a0a-9c80-6dcadf3d53f4",
   "metadata": {
    "tags": []
   },
   "outputs": [],
   "source": [
    "#print(Netflix_Data)"
   ]
  },
  {
   "cell_type": "code",
   "execution_count": 5,
   "id": "f7a93965-60e0-4ead-b765-e82076a939eb",
   "metadata": {
    "tags": []
   },
   "outputs": [
    {
     "data": {
      "text/html": [
       "<div>\n",
       "<style scoped>\n",
       "    .dataframe tbody tr th:only-of-type {\n",
       "        vertical-align: middle;\n",
       "    }\n",
       "\n",
       "    .dataframe tbody tr th {\n",
       "        vertical-align: top;\n",
       "    }\n",
       "\n",
       "    .dataframe thead th {\n",
       "        text-align: right;\n",
       "    }\n",
       "</style>\n",
       "<table border=\"1\" class=\"dataframe\">\n",
       "  <thead>\n",
       "    <tr style=\"text-align: right;\">\n",
       "      <th></th>\n",
       "      <th>Show_Id</th>\n",
       "      <th>Category</th>\n",
       "      <th>Title</th>\n",
       "      <th>Director</th>\n",
       "      <th>Cast</th>\n",
       "      <th>Country</th>\n",
       "      <th>Release_Date</th>\n",
       "      <th>Rating</th>\n",
       "      <th>Duration</th>\n",
       "      <th>Type</th>\n",
       "      <th>Description</th>\n",
       "    </tr>\n",
       "  </thead>\n",
       "  <tbody>\n",
       "    <tr>\n",
       "      <th>0</th>\n",
       "      <td>s1</td>\n",
       "      <td>TV Show</td>\n",
       "      <td>3%</td>\n",
       "      <td>NaN</td>\n",
       "      <td>João Miguel, Bianca Comparato, Michel Gomes, R...</td>\n",
       "      <td>Brazil</td>\n",
       "      <td>August 14, 2020</td>\n",
       "      <td>TV-MA</td>\n",
       "      <td>4 Seasons</td>\n",
       "      <td>International TV Shows, TV Dramas, TV Sci-Fi &amp;...</td>\n",
       "      <td>In a future where the elite inhabit an island ...</td>\n",
       "    </tr>\n",
       "    <tr>\n",
       "      <th>1</th>\n",
       "      <td>s2</td>\n",
       "      <td>Movie</td>\n",
       "      <td>07:19</td>\n",
       "      <td>Jorge Michel Grau</td>\n",
       "      <td>Demián Bichir, Héctor Bonilla, Oscar Serrano, ...</td>\n",
       "      <td>Mexico</td>\n",
       "      <td>December 23, 2016</td>\n",
       "      <td>TV-MA</td>\n",
       "      <td>93 min</td>\n",
       "      <td>Dramas, International Movies</td>\n",
       "      <td>After a devastating earthquake hits Mexico Cit...</td>\n",
       "    </tr>\n",
       "    <tr>\n",
       "      <th>2</th>\n",
       "      <td>s3</td>\n",
       "      <td>Movie</td>\n",
       "      <td>23:59</td>\n",
       "      <td>Gilbert Chan</td>\n",
       "      <td>Tedd Chan, Stella Chung, Henley Hii, Lawrence ...</td>\n",
       "      <td>Singapore</td>\n",
       "      <td>December 20, 2018</td>\n",
       "      <td>R</td>\n",
       "      <td>78 min</td>\n",
       "      <td>Horror Movies, International Movies</td>\n",
       "      <td>When an army recruit is found dead, his fellow...</td>\n",
       "    </tr>\n",
       "    <tr>\n",
       "      <th>3</th>\n",
       "      <td>s4</td>\n",
       "      <td>Movie</td>\n",
       "      <td>9</td>\n",
       "      <td>Shane Acker</td>\n",
       "      <td>Elijah Wood, John C. Reilly, Jennifer Connelly...</td>\n",
       "      <td>United States</td>\n",
       "      <td>November 16, 2017</td>\n",
       "      <td>PG-13</td>\n",
       "      <td>80 min</td>\n",
       "      <td>Action &amp; Adventure, Independent Movies, Sci-Fi...</td>\n",
       "      <td>In a postapocalyptic world, rag-doll robots hi...</td>\n",
       "    </tr>\n",
       "    <tr>\n",
       "      <th>4</th>\n",
       "      <td>s5</td>\n",
       "      <td>Movie</td>\n",
       "      <td>21</td>\n",
       "      <td>Robert Luketic</td>\n",
       "      <td>Jim Sturgess, Kevin Spacey, Kate Bosworth, Aar...</td>\n",
       "      <td>United States</td>\n",
       "      <td>January 1, 2020</td>\n",
       "      <td>PG-13</td>\n",
       "      <td>123 min</td>\n",
       "      <td>Dramas</td>\n",
       "      <td>A brilliant group of students become card-coun...</td>\n",
       "    </tr>\n",
       "  </tbody>\n",
       "</table>\n",
       "</div>"
      ],
      "text/plain": [
       "  Show_Id Category  Title           Director  \\\n",
       "0      s1  TV Show     3%                NaN   \n",
       "1      s2    Movie  07:19  Jorge Michel Grau   \n",
       "2      s3    Movie  23:59       Gilbert Chan   \n",
       "3      s4    Movie      9        Shane Acker   \n",
       "4      s5    Movie     21     Robert Luketic   \n",
       "\n",
       "                                                Cast        Country  \\\n",
       "0  João Miguel, Bianca Comparato, Michel Gomes, R...         Brazil   \n",
       "1  Demián Bichir, Héctor Bonilla, Oscar Serrano, ...         Mexico   \n",
       "2  Tedd Chan, Stella Chung, Henley Hii, Lawrence ...      Singapore   \n",
       "3  Elijah Wood, John C. Reilly, Jennifer Connelly...  United States   \n",
       "4  Jim Sturgess, Kevin Spacey, Kate Bosworth, Aar...  United States   \n",
       "\n",
       "        Release_Date Rating   Duration  \\\n",
       "0    August 14, 2020  TV-MA  4 Seasons   \n",
       "1  December 23, 2016  TV-MA     93 min   \n",
       "2  December 20, 2018      R     78 min   \n",
       "3  November 16, 2017  PG-13     80 min   \n",
       "4    January 1, 2020  PG-13    123 min   \n",
       "\n",
       "                                                Type  \\\n",
       "0  International TV Shows, TV Dramas, TV Sci-Fi &...   \n",
       "1                       Dramas, International Movies   \n",
       "2                Horror Movies, International Movies   \n",
       "3  Action & Adventure, Independent Movies, Sci-Fi...   \n",
       "4                                             Dramas   \n",
       "\n",
       "                                         Description  \n",
       "0  In a future where the elite inhabit an island ...  \n",
       "1  After a devastating earthquake hits Mexico Cit...  \n",
       "2  When an army recruit is found dead, his fellow...  \n",
       "3  In a postapocalyptic world, rag-doll robots hi...  \n",
       "4  A brilliant group of students become card-coun...  "
      ]
     },
     "execution_count": 5,
     "metadata": {},
     "output_type": "execute_result"
    }
   ],
   "source": [
    "Netflix_Data.head(5)"
   ]
  },
  {
   "cell_type": "code",
   "execution_count": 6,
   "id": "329602d6-11bc-4819-9737-32ed6a971dfb",
   "metadata": {
    "tags": []
   },
   "outputs": [
    {
     "data": {
      "text/html": [
       "<div>\n",
       "<style scoped>\n",
       "    .dataframe tbody tr th:only-of-type {\n",
       "        vertical-align: middle;\n",
       "    }\n",
       "\n",
       "    .dataframe tbody tr th {\n",
       "        vertical-align: top;\n",
       "    }\n",
       "\n",
       "    .dataframe thead th {\n",
       "        text-align: right;\n",
       "    }\n",
       "</style>\n",
       "<table border=\"1\" class=\"dataframe\">\n",
       "  <thead>\n",
       "    <tr style=\"text-align: right;\">\n",
       "      <th></th>\n",
       "      <th>Show_Id</th>\n",
       "      <th>Category</th>\n",
       "      <th>Title</th>\n",
       "      <th>Director</th>\n",
       "      <th>Cast</th>\n",
       "      <th>Country</th>\n",
       "      <th>Release_Date</th>\n",
       "      <th>Rating</th>\n",
       "      <th>Duration</th>\n",
       "      <th>Type</th>\n",
       "      <th>Description</th>\n",
       "    </tr>\n",
       "  </thead>\n",
       "  <tbody>\n",
       "    <tr>\n",
       "      <th>7784</th>\n",
       "      <td>s7783</td>\n",
       "      <td>Movie</td>\n",
       "      <td>Zozo</td>\n",
       "      <td>Josef Fares</td>\n",
       "      <td>Imad Creidi, Antoinette Turk, Elias Gergi, Car...</td>\n",
       "      <td>Sweden, Czech Republic, United Kingdom, Denmar...</td>\n",
       "      <td>October 19, 2020</td>\n",
       "      <td>TV-MA</td>\n",
       "      <td>99 min</td>\n",
       "      <td>Dramas, International Movies</td>\n",
       "      <td>When Lebanon's Civil War deprives Zozo of his ...</td>\n",
       "    </tr>\n",
       "    <tr>\n",
       "      <th>7785</th>\n",
       "      <td>s7784</td>\n",
       "      <td>Movie</td>\n",
       "      <td>Zubaan</td>\n",
       "      <td>Mozez Singh</td>\n",
       "      <td>Vicky Kaushal, Sarah-Jane Dias, Raaghav Chanan...</td>\n",
       "      <td>India</td>\n",
       "      <td>March 2, 2019</td>\n",
       "      <td>TV-14</td>\n",
       "      <td>111 min</td>\n",
       "      <td>Dramas, International Movies, Music &amp; Musicals</td>\n",
       "      <td>A scrappy but poor boy worms his way into a ty...</td>\n",
       "    </tr>\n",
       "    <tr>\n",
       "      <th>7786</th>\n",
       "      <td>s7785</td>\n",
       "      <td>Movie</td>\n",
       "      <td>Zulu Man in Japan</td>\n",
       "      <td>NaN</td>\n",
       "      <td>Nasty C</td>\n",
       "      <td>NaN</td>\n",
       "      <td>September 25, 2020</td>\n",
       "      <td>TV-MA</td>\n",
       "      <td>44 min</td>\n",
       "      <td>Documentaries, International Movies, Music &amp; M...</td>\n",
       "      <td>In this documentary, South African rapper Nast...</td>\n",
       "    </tr>\n",
       "    <tr>\n",
       "      <th>7787</th>\n",
       "      <td>s7786</td>\n",
       "      <td>TV Show</td>\n",
       "      <td>Zumbo's Just Desserts</td>\n",
       "      <td>NaN</td>\n",
       "      <td>Adriano Zumbo, Rachel Khoo</td>\n",
       "      <td>Australia</td>\n",
       "      <td>October 31, 2020</td>\n",
       "      <td>TV-PG</td>\n",
       "      <td>1 Season</td>\n",
       "      <td>International TV Shows, Reality TV</td>\n",
       "      <td>Dessert wizard Adriano Zumbo looks for the nex...</td>\n",
       "    </tr>\n",
       "    <tr>\n",
       "      <th>7788</th>\n",
       "      <td>s7787</td>\n",
       "      <td>Movie</td>\n",
       "      <td>ZZ TOP: THAT LITTLE OL' BAND FROM TEXAS</td>\n",
       "      <td>Sam Dunn</td>\n",
       "      <td>NaN</td>\n",
       "      <td>United Kingdom, Canada, United States</td>\n",
       "      <td>March 1, 2020</td>\n",
       "      <td>TV-MA</td>\n",
       "      <td>90 min</td>\n",
       "      <td>Documentaries, Music &amp; Musicals</td>\n",
       "      <td>This documentary delves into the mystique behi...</td>\n",
       "    </tr>\n",
       "  </tbody>\n",
       "</table>\n",
       "</div>"
      ],
      "text/plain": [
       "     Show_Id Category                                    Title     Director  \\\n",
       "7784   s7783    Movie                                     Zozo  Josef Fares   \n",
       "7785   s7784    Movie                                   Zubaan  Mozez Singh   \n",
       "7786   s7785    Movie                        Zulu Man in Japan          NaN   \n",
       "7787   s7786  TV Show                    Zumbo's Just Desserts          NaN   \n",
       "7788   s7787    Movie  ZZ TOP: THAT LITTLE OL' BAND FROM TEXAS     Sam Dunn   \n",
       "\n",
       "                                                   Cast  \\\n",
       "7784  Imad Creidi, Antoinette Turk, Elias Gergi, Car...   \n",
       "7785  Vicky Kaushal, Sarah-Jane Dias, Raaghav Chanan...   \n",
       "7786                                            Nasty C   \n",
       "7787                         Adriano Zumbo, Rachel Khoo   \n",
       "7788                                                NaN   \n",
       "\n",
       "                                                Country        Release_Date  \\\n",
       "7784  Sweden, Czech Republic, United Kingdom, Denmar...    October 19, 2020   \n",
       "7785                                              India       March 2, 2019   \n",
       "7786                                                NaN  September 25, 2020   \n",
       "7787                                          Australia    October 31, 2020   \n",
       "7788              United Kingdom, Canada, United States       March 1, 2020   \n",
       "\n",
       "     Rating  Duration                                               Type  \\\n",
       "7784  TV-MA    99 min                       Dramas, International Movies   \n",
       "7785  TV-14   111 min     Dramas, International Movies, Music & Musicals   \n",
       "7786  TV-MA    44 min  Documentaries, International Movies, Music & M...   \n",
       "7787  TV-PG  1 Season                 International TV Shows, Reality TV   \n",
       "7788  TV-MA    90 min                    Documentaries, Music & Musicals   \n",
       "\n",
       "                                            Description  \n",
       "7784  When Lebanon's Civil War deprives Zozo of his ...  \n",
       "7785  A scrappy but poor boy worms his way into a ty...  \n",
       "7786  In this documentary, South African rapper Nast...  \n",
       "7787  Dessert wizard Adriano Zumbo looks for the nex...  \n",
       "7788  This documentary delves into the mystique behi...  "
      ]
     },
     "execution_count": 6,
     "metadata": {},
     "output_type": "execute_result"
    }
   ],
   "source": [
    "Netflix_Data.tail(5)"
   ]
  },
  {
   "cell_type": "code",
   "execution_count": 7,
   "id": "2811844f-5377-4e47-953c-fd858f792ab5",
   "metadata": {
    "tags": []
   },
   "outputs": [
    {
     "name": "stdout",
     "output_type": "stream",
     "text": [
      "<class 'pandas.core.frame.DataFrame'>\n",
      "RangeIndex: 7789 entries, 0 to 7788\n",
      "Data columns (total 11 columns):\n",
      " #   Column        Non-Null Count  Dtype \n",
      "---  ------        --------------  ----- \n",
      " 0   Show_Id       7789 non-null   object\n",
      " 1   Category      7789 non-null   object\n",
      " 2   Title         7789 non-null   object\n",
      " 3   Director      5401 non-null   object\n",
      " 4   Cast          7071 non-null   object\n",
      " 5   Country       7282 non-null   object\n",
      " 6   Release_Date  7779 non-null   object\n",
      " 7   Rating        7782 non-null   object\n",
      " 8   Duration      7789 non-null   object\n",
      " 9   Type          7789 non-null   object\n",
      " 10  Description   7789 non-null   object\n",
      "dtypes: object(11)\n",
      "memory usage: 669.5+ KB\n"
     ]
    }
   ],
   "source": [
    "#Netflix_Data.shape # gives the total number of raws and columns\n",
    "#Netflix_Data.size # gives the total number of elements in dataset\n",
    "#Netflix_data.columns #gives the list of the columns\n",
    "#Netflix_data.dtypes #shows the data types of each column\n",
    "Netflix_Data.info() #give all information about over data"
   ]
  },
  {
   "cell_type": "markdown",
   "id": "2f85a7f5-49e7-486b-910d-44cb690aa381",
   "metadata": {},
   "source": [
    "### Data has some undefined terms in Director , Cast , Country , Release_Date , Rating columns."
   ]
  },
  {
   "cell_type": "markdown",
   "id": "5c6f2ece-fde5-4819-9e0f-cebb9ea16a17",
   "metadata": {},
   "source": [
    "### Lets check the duplicacy in data"
   ]
  },
  {
   "cell_type": "code",
   "execution_count": 8,
   "id": "00880be9-9e09-4c44-a469-49cf7d033a31",
   "metadata": {
    "tags": []
   },
   "outputs": [
    {
     "data": {
      "text/plain": [
       "2"
      ]
     },
     "execution_count": 8,
     "metadata": {},
     "output_type": "execute_result"
    }
   ],
   "source": [
    "#Netflix_Data.duplicated() # to check row wise and detect the Duplicate rows\n",
    "Netflix_Data.duplicated().sum() #gives the total number of same rows "
   ]
  },
  {
   "cell_type": "markdown",
   "id": "e108873e-9d8f-410c-b1b9-ff976b954d8e",
   "metadata": {},
   "source": [
    "### We have two rows are duplicate"
   ]
  },
  {
   "cell_type": "code",
   "execution_count": 9,
   "id": "769bf9ae-54cd-4439-83e8-dc3ef8dd7003",
   "metadata": {
    "tags": []
   },
   "outputs": [
    {
     "data": {
      "text/html": [
       "<div>\n",
       "<style scoped>\n",
       "    .dataframe tbody tr th:only-of-type {\n",
       "        vertical-align: middle;\n",
       "    }\n",
       "\n",
       "    .dataframe tbody tr th {\n",
       "        vertical-align: top;\n",
       "    }\n",
       "\n",
       "    .dataframe thead th {\n",
       "        text-align: right;\n",
       "    }\n",
       "</style>\n",
       "<table border=\"1\" class=\"dataframe\">\n",
       "  <thead>\n",
       "    <tr style=\"text-align: right;\">\n",
       "      <th></th>\n",
       "      <th>Show_Id</th>\n",
       "      <th>Category</th>\n",
       "      <th>Title</th>\n",
       "      <th>Director</th>\n",
       "      <th>Cast</th>\n",
       "      <th>Country</th>\n",
       "      <th>Release_Date</th>\n",
       "      <th>Rating</th>\n",
       "      <th>Duration</th>\n",
       "      <th>Type</th>\n",
       "      <th>Description</th>\n",
       "    </tr>\n",
       "  </thead>\n",
       "  <tbody>\n",
       "    <tr>\n",
       "      <th>6300</th>\n",
       "      <td>s684</td>\n",
       "      <td>Movie</td>\n",
       "      <td>Backfire</td>\n",
       "      <td>Dave Patten</td>\n",
       "      <td>Black Deniro, Byron \"Squally\" Vinson, Dominic ...</td>\n",
       "      <td>United States</td>\n",
       "      <td>April 5, 2019</td>\n",
       "      <td>TV-MA</td>\n",
       "      <td>97 min</td>\n",
       "      <td>Dramas, Independent Movies, Thrillers</td>\n",
       "      <td>When two would-be robbers accidentally kill a ...</td>\n",
       "    </tr>\n",
       "    <tr>\n",
       "      <th>6622</th>\n",
       "      <td>s6621</td>\n",
       "      <td>Movie</td>\n",
       "      <td>The Lost Okoroshi</td>\n",
       "      <td>Abba T. Makama</td>\n",
       "      <td>Seun Ajayi, Judith Audu, Tope Tedela, Ifu Enna...</td>\n",
       "      <td>Nigeria</td>\n",
       "      <td>September 4, 2020</td>\n",
       "      <td>TV-MA</td>\n",
       "      <td>94 min</td>\n",
       "      <td>Comedies, Dramas, Independent Movies</td>\n",
       "      <td>A disillusioned security guard transforms into...</td>\n",
       "    </tr>\n",
       "  </tbody>\n",
       "</table>\n",
       "</div>"
      ],
      "text/plain": [
       "     Show_Id Category              Title        Director  \\\n",
       "6300    s684    Movie           Backfire     Dave Patten   \n",
       "6622   s6621    Movie  The Lost Okoroshi  Abba T. Makama   \n",
       "\n",
       "                                                   Cast        Country  \\\n",
       "6300  Black Deniro, Byron \"Squally\" Vinson, Dominic ...  United States   \n",
       "6622  Seun Ajayi, Judith Audu, Tope Tedela, Ifu Enna...        Nigeria   \n",
       "\n",
       "           Release_Date Rating Duration  \\\n",
       "6300      April 5, 2019  TV-MA   97 min   \n",
       "6622  September 4, 2020  TV-MA   94 min   \n",
       "\n",
       "                                       Type  \\\n",
       "6300  Dramas, Independent Movies, Thrillers   \n",
       "6622   Comedies, Dramas, Independent Movies   \n",
       "\n",
       "                                            Description  \n",
       "6300  When two would-be robbers accidentally kill a ...  \n",
       "6622  A disillusioned security guard transforms into...  "
      ]
     },
     "execution_count": 9,
     "metadata": {},
     "output_type": "execute_result"
    }
   ],
   "source": [
    "Netflix_Data[Netflix_Data.duplicated()]"
   ]
  },
  {
   "cell_type": "code",
   "execution_count": 10,
   "id": "2d6c4735-efdd-4646-a380-2da8bf722178",
   "metadata": {
    "tags": []
   },
   "outputs": [],
   "source": [
    "Netflix_Data.drop_duplicates(inplace=True)"
   ]
  },
  {
   "cell_type": "code",
   "execution_count": 11,
   "id": "2c9fba6f-b1cb-4119-984b-6237ad783891",
   "metadata": {
    "tags": []
   },
   "outputs": [
    {
     "data": {
      "text/html": [
       "<div>\n",
       "<style scoped>\n",
       "    .dataframe tbody tr th:only-of-type {\n",
       "        vertical-align: middle;\n",
       "    }\n",
       "\n",
       "    .dataframe tbody tr th {\n",
       "        vertical-align: top;\n",
       "    }\n",
       "\n",
       "    .dataframe thead th {\n",
       "        text-align: right;\n",
       "    }\n",
       "</style>\n",
       "<table border=\"1\" class=\"dataframe\">\n",
       "  <thead>\n",
       "    <tr style=\"text-align: right;\">\n",
       "      <th></th>\n",
       "      <th>Show_Id</th>\n",
       "      <th>Category</th>\n",
       "      <th>Title</th>\n",
       "      <th>Director</th>\n",
       "      <th>Cast</th>\n",
       "      <th>Country</th>\n",
       "      <th>Release_Date</th>\n",
       "      <th>Rating</th>\n",
       "      <th>Duration</th>\n",
       "      <th>Type</th>\n",
       "      <th>Description</th>\n",
       "    </tr>\n",
       "  </thead>\n",
       "  <tbody>\n",
       "  </tbody>\n",
       "</table>\n",
       "</div>"
      ],
      "text/plain": [
       "Empty DataFrame\n",
       "Columns: [Show_Id, Category, Title, Director, Cast, Country, Release_Date, Rating, Duration, Type, Description]\n",
       "Index: []"
      ]
     },
     "execution_count": 11,
     "metadata": {},
     "output_type": "execute_result"
    }
   ],
   "source": [
    "Netflix_Data[Netflix_Data.duplicated()]"
   ]
  },
  {
   "cell_type": "code",
   "execution_count": 12,
   "id": "9943cce9-4d5a-4e8d-988c-c836dc839af3",
   "metadata": {
    "tags": []
   },
   "outputs": [
    {
     "name": "stdout",
     "output_type": "stream",
     "text": [
      "<class 'pandas.core.frame.DataFrame'>\n",
      "Int64Index: 7787 entries, 0 to 7788\n",
      "Data columns (total 11 columns):\n",
      " #   Column        Non-Null Count  Dtype \n",
      "---  ------        --------------  ----- \n",
      " 0   Show_Id       7787 non-null   object\n",
      " 1   Category      7787 non-null   object\n",
      " 2   Title         7787 non-null   object\n",
      " 3   Director      5399 non-null   object\n",
      " 4   Cast          7069 non-null   object\n",
      " 5   Country       7280 non-null   object\n",
      " 6   Release_Date  7777 non-null   object\n",
      " 7   Rating        7780 non-null   object\n",
      " 8   Duration      7787 non-null   object\n",
      " 9   Type          7787 non-null   object\n",
      " 10  Description   7787 non-null   object\n",
      "dtypes: object(11)\n",
      "memory usage: 730.0+ KB\n"
     ]
    }
   ],
   "source": [
    "Netflix_Data.info()"
   ]
  },
  {
   "cell_type": "markdown",
   "id": "673c44da-0e4d-4b20-a2ea-9ad9d4b63d2c",
   "metadata": {},
   "source": [
    "### Check the null values in Dataset"
   ]
  },
  {
   "cell_type": "code",
   "execution_count": 13,
   "id": "dba0f084-c217-4065-8f5d-e33943a55007",
   "metadata": {
    "tags": []
   },
   "outputs": [
    {
     "data": {
      "text/plain": [
       "Show_Id            0\n",
       "Category           0\n",
       "Title              0\n",
       "Director        2388\n",
       "Cast             718\n",
       "Country          507\n",
       "Release_Date      10\n",
       "Rating             7\n",
       "Duration           0\n",
       "Type               0\n",
       "Description        0\n",
       "dtype: int64"
      ]
     },
     "execution_count": 13,
     "metadata": {},
     "output_type": "execute_result"
    }
   ],
   "source": [
    " Netflix_Data.isnull().sum()"
   ]
  },
  {
   "cell_type": "code",
   "execution_count": 14,
   "id": "3c6e531a-5e8f-4bcd-afc1-70e1ec6f8605",
   "metadata": {
    "tags": []
   },
   "outputs": [
    {
     "data": {
      "text/plain": [
       "<AxesSubplot: >"
      ]
     },
     "execution_count": 14,
     "metadata": {},
     "output_type": "execute_result"
    },
    {
     "data": {
      "image/png": "[encoded data removed]",
      "text/plain": [
       "<Figure size 640x480 with 2 Axes>"
      ]
     },
     "metadata": {},
     "output_type": "display_data"
    }
   ],
   "source": [
    "sb.heatmap(Netflix_Data.isnull())"
   ]
  },
  {
   "cell_type": "markdown",
   "id": "69d0cc0f-fa37-406d-8bf9-d1ba9d5e861a",
   "metadata": {},
   "source": [
    "### Now let search all records based on perticuler information\n"
   ]
  },
  {
   "cell_type": "markdown",
   "id": "1c9d9550-e107-4039-9cc1-2053788525da",
   "metadata": {},
   "source": [
    "### lets search this column where Title is Backfire"
   ]
  },
  {
   "cell_type": "code",
   "execution_count": 15,
   "id": "6b0fb364-aa6a-4142-8edf-4f119bda9087",
   "metadata": {
    "tags": []
   },
   "outputs": [
    {
     "data": {
      "text/html": [
       "<div>\n",
       "<style scoped>\n",
       "    .dataframe tbody tr th:only-of-type {\n",
       "        vertical-align: middle;\n",
       "    }\n",
       "\n",
       "    .dataframe tbody tr th {\n",
       "        vertical-align: top;\n",
       "    }\n",
       "\n",
       "    .dataframe thead th {\n",
       "        text-align: right;\n",
       "    }\n",
       "</style>\n",
       "<table border=\"1\" class=\"dataframe\">\n",
       "  <thead>\n",
       "    <tr style=\"text-align: right;\">\n",
       "      <th></th>\n",
       "      <th>Show_Id</th>\n",
       "      <th>Category</th>\n",
       "      <th>Title</th>\n",
       "      <th>Director</th>\n",
       "      <th>Cast</th>\n",
       "      <th>Country</th>\n",
       "      <th>Release_Date</th>\n",
       "      <th>Rating</th>\n",
       "      <th>Duration</th>\n",
       "      <th>Type</th>\n",
       "      <th>Description</th>\n",
       "    </tr>\n",
       "  </thead>\n",
       "  <tbody>\n",
       "    <tr>\n",
       "      <th>683</th>\n",
       "      <td>s684</td>\n",
       "      <td>Movie</td>\n",
       "      <td>Backfire</td>\n",
       "      <td>Dave Patten</td>\n",
       "      <td>Black Deniro, Byron \"Squally\" Vinson, Dominic ...</td>\n",
       "      <td>United States</td>\n",
       "      <td>April 5, 2019</td>\n",
       "      <td>TV-MA</td>\n",
       "      <td>97 min</td>\n",
       "      <td>Dramas, Independent Movies, Thrillers</td>\n",
       "      <td>When two would-be robbers accidentally kill a ...</td>\n",
       "    </tr>\n",
       "  </tbody>\n",
       "</table>\n",
       "</div>"
      ],
      "text/plain": [
       "    Show_Id Category     Title     Director  \\\n",
       "683    s684    Movie  Backfire  Dave Patten   \n",
       "\n",
       "                                                  Cast        Country  \\\n",
       "683  Black Deniro, Byron \"Squally\" Vinson, Dominic ...  United States   \n",
       "\n",
       "      Release_Date Rating Duration                                   Type  \\\n",
       "683  April 5, 2019  TV-MA   97 min  Dramas, Independent Movies, Thrillers   \n",
       "\n",
       "                                           Description  \n",
       "683  When two would-be robbers accidentally kill a ...  "
      ]
     },
     "execution_count": 15,
     "metadata": {},
     "output_type": "execute_result"
    }
   ],
   "source": [
    "Netflix_Data[Netflix_Data[\"Title\"].isin([\"Backfire\"])]"
   ]
  },
  {
   "cell_type": "code",
   "execution_count": 16,
   "id": "9777e8bb-505a-4ee5-94a2-af2123756150",
   "metadata": {
    "tags": []
   },
   "outputs": [
    {
     "data": {
      "text/html": [
       "<div>\n",
       "<style scoped>\n",
       "    .dataframe tbody tr th:only-of-type {\n",
       "        vertical-align: middle;\n",
       "    }\n",
       "\n",
       "    .dataframe tbody tr th {\n",
       "        vertical-align: top;\n",
       "    }\n",
       "\n",
       "    .dataframe thead th {\n",
       "        text-align: right;\n",
       "    }\n",
       "</style>\n",
       "<table border=\"1\" class=\"dataframe\">\n",
       "  <thead>\n",
       "    <tr style=\"text-align: right;\">\n",
       "      <th></th>\n",
       "      <th>Show_Id</th>\n",
       "      <th>Category</th>\n",
       "      <th>Title</th>\n",
       "      <th>Director</th>\n",
       "      <th>Cast</th>\n",
       "      <th>Country</th>\n",
       "      <th>Release_Date</th>\n",
       "      <th>Rating</th>\n",
       "      <th>Duration</th>\n",
       "      <th>Type</th>\n",
       "      <th>Description</th>\n",
       "    </tr>\n",
       "  </thead>\n",
       "  <tbody>\n",
       "    <tr>\n",
       "      <th>683</th>\n",
       "      <td>s684</td>\n",
       "      <td>Movie</td>\n",
       "      <td>Backfire</td>\n",
       "      <td>Dave Patten</td>\n",
       "      <td>Black Deniro, Byron \"Squally\" Vinson, Dominic ...</td>\n",
       "      <td>United States</td>\n",
       "      <td>April 5, 2019</td>\n",
       "      <td>TV-MA</td>\n",
       "      <td>97 min</td>\n",
       "      <td>Dramas, Independent Movies, Thrillers</td>\n",
       "      <td>When two would-be robbers accidentally kill a ...</td>\n",
       "    </tr>\n",
       "  </tbody>\n",
       "</table>\n",
       "</div>"
      ],
      "text/plain": [
       "    Show_Id Category     Title     Director  \\\n",
       "683    s684    Movie  Backfire  Dave Patten   \n",
       "\n",
       "                                                  Cast        Country  \\\n",
       "683  Black Deniro, Byron \"Squally\" Vinson, Dominic ...  United States   \n",
       "\n",
       "      Release_Date Rating Duration                                   Type  \\\n",
       "683  April 5, 2019  TV-MA   97 min  Dramas, Independent Movies, Thrillers   \n",
       "\n",
       "                                           Description  \n",
       "683  When two would-be robbers accidentally kill a ...  "
      ]
     },
     "execution_count": 16,
     "metadata": {},
     "output_type": "execute_result"
    }
   ],
   "source": [
    "Netflix_Data[Netflix_Data['Title'].str.contains(\"Backfire\")]"
   ]
  },
  {
   "cell_type": "markdown",
   "id": "0580a346-dbfe-42ed-bba4-c5616b1b72b2",
   "metadata": {},
   "source": [
    "### Year in which maximum number of content uploaded on Netflix"
   ]
  },
  {
   "cell_type": "code",
   "execution_count": 17,
   "id": "d85cf022-ce31-4882-8fb3-85ec0789f2de",
   "metadata": {
    "tags": []
   },
   "outputs": [],
   "source": [
    "Netflix_Data[\"Date_Year\"] = pd.to_datetime(Netflix_Data[\"Release_Date\"])"
   ]
  },
  {
   "cell_type": "code",
   "execution_count": 18,
   "id": "13e4813c-155d-43f7-aa51-b0ca98793f2a",
   "metadata": {
    "tags": []
   },
   "outputs": [
    {
     "data": {
      "text/html": [
       "<div>\n",
       "<style scoped>\n",
       "    .dataframe tbody tr th:only-of-type {\n",
       "        vertical-align: middle;\n",
       "    }\n",
       "\n",
       "    .dataframe tbody tr th {\n",
       "        vertical-align: top;\n",
       "    }\n",
       "\n",
       "    .dataframe thead th {\n",
       "        text-align: right;\n",
       "    }\n",
       "</style>\n",
       "<table border=\"1\" class=\"dataframe\">\n",
       "  <thead>\n",
       "    <tr style=\"text-align: right;\">\n",
       "      <th></th>\n",
       "      <th>Show_Id</th>\n",
       "      <th>Category</th>\n",
       "      <th>Title</th>\n",
       "      <th>Director</th>\n",
       "      <th>Cast</th>\n",
       "      <th>Country</th>\n",
       "      <th>Release_Date</th>\n",
       "      <th>Rating</th>\n",
       "      <th>Duration</th>\n",
       "      <th>Type</th>\n",
       "      <th>Description</th>\n",
       "      <th>Date_Year</th>\n",
       "    </tr>\n",
       "  </thead>\n",
       "  <tbody>\n",
       "    <tr>\n",
       "      <th>0</th>\n",
       "      <td>s1</td>\n",
       "      <td>TV Show</td>\n",
       "      <td>3%</td>\n",
       "      <td>NaN</td>\n",
       "      <td>João Miguel, Bianca Comparato, Michel Gomes, R...</td>\n",
       "      <td>Brazil</td>\n",
       "      <td>August 14, 2020</td>\n",
       "      <td>TV-MA</td>\n",
       "      <td>4 Seasons</td>\n",
       "      <td>International TV Shows, TV Dramas, TV Sci-Fi &amp;...</td>\n",
       "      <td>In a future where the elite inhabit an island ...</td>\n",
       "      <td>2020-08-14</td>\n",
       "    </tr>\n",
       "    <tr>\n",
       "      <th>1</th>\n",
       "      <td>s2</td>\n",
       "      <td>Movie</td>\n",
       "      <td>07:19</td>\n",
       "      <td>Jorge Michel Grau</td>\n",
       "      <td>Demián Bichir, Héctor Bonilla, Oscar Serrano, ...</td>\n",
       "      <td>Mexico</td>\n",
       "      <td>December 23, 2016</td>\n",
       "      <td>TV-MA</td>\n",
       "      <td>93 min</td>\n",
       "      <td>Dramas, International Movies</td>\n",
       "      <td>After a devastating earthquake hits Mexico Cit...</td>\n",
       "      <td>2016-12-23</td>\n",
       "    </tr>\n",
       "    <tr>\n",
       "      <th>2</th>\n",
       "      <td>s3</td>\n",
       "      <td>Movie</td>\n",
       "      <td>23:59</td>\n",
       "      <td>Gilbert Chan</td>\n",
       "      <td>Tedd Chan, Stella Chung, Henley Hii, Lawrence ...</td>\n",
       "      <td>Singapore</td>\n",
       "      <td>December 20, 2018</td>\n",
       "      <td>R</td>\n",
       "      <td>78 min</td>\n",
       "      <td>Horror Movies, International Movies</td>\n",
       "      <td>When an army recruit is found dead, his fellow...</td>\n",
       "      <td>2018-12-20</td>\n",
       "    </tr>\n",
       "    <tr>\n",
       "      <th>3</th>\n",
       "      <td>s4</td>\n",
       "      <td>Movie</td>\n",
       "      <td>9</td>\n",
       "      <td>Shane Acker</td>\n",
       "      <td>Elijah Wood, John C. Reilly, Jennifer Connelly...</td>\n",
       "      <td>United States</td>\n",
       "      <td>November 16, 2017</td>\n",
       "      <td>PG-13</td>\n",
       "      <td>80 min</td>\n",
       "      <td>Action &amp; Adventure, Independent Movies, Sci-Fi...</td>\n",
       "      <td>In a postapocalyptic world, rag-doll robots hi...</td>\n",
       "      <td>2017-11-16</td>\n",
       "    </tr>\n",
       "    <tr>\n",
       "      <th>4</th>\n",
       "      <td>s5</td>\n",
       "      <td>Movie</td>\n",
       "      <td>21</td>\n",
       "      <td>Robert Luketic</td>\n",
       "      <td>Jim Sturgess, Kevin Spacey, Kate Bosworth, Aar...</td>\n",
       "      <td>United States</td>\n",
       "      <td>January 1, 2020</td>\n",
       "      <td>PG-13</td>\n",
       "      <td>123 min</td>\n",
       "      <td>Dramas</td>\n",
       "      <td>A brilliant group of students become card-coun...</td>\n",
       "      <td>2020-01-01</td>\n",
       "    </tr>\n",
       "  </tbody>\n",
       "</table>\n",
       "</div>"
      ],
      "text/plain": [
       "  Show_Id Category  Title           Director  \\\n",
       "0      s1  TV Show     3%                NaN   \n",
       "1      s2    Movie  07:19  Jorge Michel Grau   \n",
       "2      s3    Movie  23:59       Gilbert Chan   \n",
       "3      s4    Movie      9        Shane Acker   \n",
       "4      s5    Movie     21     Robert Luketic   \n",
       "\n",
       "                                                Cast        Country  \\\n",
       "0  João Miguel, Bianca Comparato, Michel Gomes, R...         Brazil   \n",
       "1  Demián Bichir, Héctor Bonilla, Oscar Serrano, ...         Mexico   \n",
       "2  Tedd Chan, Stella Chung, Henley Hii, Lawrence ...      Singapore   \n",
       "3  Elijah Wood, John C. Reilly, Jennifer Connelly...  United States   \n",
       "4  Jim Sturgess, Kevin Spacey, Kate Bosworth, Aar...  United States   \n",
       "\n",
       "        Release_Date Rating   Duration  \\\n",
       "0    August 14, 2020  TV-MA  4 Seasons   \n",
       "1  December 23, 2016  TV-MA     93 min   \n",
       "2  December 20, 2018      R     78 min   \n",
       "3  November 16, 2017  PG-13     80 min   \n",
       "4    January 1, 2020  PG-13    123 min   \n",
       "\n",
       "                                                Type  \\\n",
       "0  International TV Shows, TV Dramas, TV Sci-Fi &...   \n",
       "1                       Dramas, International Movies   \n",
       "2                Horror Movies, International Movies   \n",
       "3  Action & Adventure, Independent Movies, Sci-Fi...   \n",
       "4                                             Dramas   \n",
       "\n",
       "                                         Description  Date_Year  \n",
       "0  In a future where the elite inhabit an island ... 2020-08-14  \n",
       "1  After a devastating earthquake hits Mexico Cit... 2016-12-23  \n",
       "2  When an army recruit is found dead, his fellow... 2018-12-20  \n",
       "3  In a postapocalyptic world, rag-doll robots hi... 2017-11-16  \n",
       "4  A brilliant group of students become card-coun... 2020-01-01  "
      ]
     },
     "execution_count": 18,
     "metadata": {},
     "output_type": "execute_result"
    }
   ],
   "source": [
    "Netflix_Data.head()"
   ]
  },
  {
   "cell_type": "code",
   "execution_count": 19,
   "id": "560dd128-2323-48c6-a6d2-d5999bc46463",
   "metadata": {
    "tags": []
   },
   "outputs": [
    {
     "name": "stdout",
     "output_type": "stream",
     "text": [
      "<class 'pandas.core.frame.DataFrame'>\n",
      "Int64Index: 7787 entries, 0 to 7788\n",
      "Data columns (total 12 columns):\n",
      " #   Column        Non-Null Count  Dtype         \n",
      "---  ------        --------------  -----         \n",
      " 0   Show_Id       7787 non-null   object        \n",
      " 1   Category      7787 non-null   object        \n",
      " 2   Title         7787 non-null   object        \n",
      " 3   Director      5399 non-null   object        \n",
      " 4   Cast          7069 non-null   object        \n",
      " 5   Country       7280 non-null   object        \n",
      " 6   Release_Date  7777 non-null   object        \n",
      " 7   Rating        7780 non-null   object        \n",
      " 8   Duration      7787 non-null   object        \n",
      " 9   Type          7787 non-null   object        \n",
      " 10  Description   7787 non-null   object        \n",
      " 11  Date_Year     7777 non-null   datetime64[ns]\n",
      "dtypes: datetime64[ns](1), object(11)\n",
      "memory usage: 790.9+ KB\n"
     ]
    }
   ],
   "source": [
    "Netflix_Data.info()"
   ]
  },
  {
   "cell_type": "code",
   "execution_count": 20,
   "id": "1984cbbd-d57e-43de-a40c-ea8bffc537b1",
   "metadata": {
    "tags": []
   },
   "outputs": [
    {
     "data": {
      "text/plain": [
       "2019.0    2153\n",
       "2020.0    2009\n",
       "2018.0    1685\n",
       "2017.0    1225\n",
       "2016.0     443\n",
       "2021.0     117\n",
       "2015.0      88\n",
       "2014.0      25\n",
       "2011.0      13\n",
       "2013.0      11\n",
       "2012.0       3\n",
       "2008.0       2\n",
       "2009.0       2\n",
       "2010.0       1\n",
       "Name: Date_Year, dtype: int64"
      ]
     },
     "execution_count": 20,
     "metadata": {},
     "output_type": "execute_result"
    }
   ],
   "source": [
    "Netflix_Data['Date_Year'].dt.year.value_counts() #it counts the occurence of all  individual years in Date column"
   ]
  },
  {
   "cell_type": "code",
   "execution_count": 21,
   "id": "8fe900cd-dfe2-41e5-af67-e38b16249d10",
   "metadata": {
    "tags": []
   },
   "outputs": [
    {
     "data": {
      "text/plain": [
       "<AxesSubplot: >"
      ]
     },
     "execution_count": 21,
     "metadata": {},
     "output_type": "execute_result"
    },
    {
     "data": {
      "image/png": "[encoded data removed]",
      "text/plain": [
       "<Figure size 640x480 with 1 Axes>"
      ]
     },
     "metadata": {},
     "output_type": "display_data"
    }
   ],
   "source": [
    "# for plot(bar)\n",
    "Netflix_Data['Date_Year'].dt.year.value_counts().plot(kind='bar')"
   ]
  },
  {
   "cell_type": "markdown",
   "id": "85863a79-7d93-4bb4-b47a-abbd0cc4f477",
   "metadata": {},
   "source": [
    "### Let count the total number of TV shows and Movies in given data set"
   ]
  },
  {
   "cell_type": "code",
   "execution_count": 22,
   "id": "a70bbc1e-2312-4bd7-9c3e-87e5a674b5c5",
   "metadata": {
    "tags": []
   },
   "outputs": [
    {
     "data": {
      "text/plain": [
       "Category\n",
       "Movie      5377\n",
       "TV Show    2410\n",
       "Name: Category, dtype: int64"
      ]
     },
     "execution_count": 22,
     "metadata": {},
     "output_type": "execute_result"
    }
   ],
   "source": [
    "Netflix_Data.groupby(\"Category\").Category.count()"
   ]
  },
  {
   "cell_type": "markdown",
   "id": "2f1bb4cc-a35a-4ef4-90e8-f4a9a46e6607",
   "metadata": {},
   "source": [
    "### all movies that were relased in year 2000"
   ]
  },
  {
   "cell_type": "code",
   "execution_count": 23,
   "id": "47df2624-b45d-49eb-a45d-d1ce57c65326",
   "metadata": {
    "tags": []
   },
   "outputs": [],
   "source": [
    "#first we have to create column for Year\n",
    "Netflix_Data['Year'] = Netflix_Data['Date_Year'].dt.year  "
   ]
  },
  {
   "cell_type": "code",
   "execution_count": 24,
   "id": "1f599341-947d-49a9-9b1d-32b4c1134a27",
   "metadata": {
    "tags": []
   },
   "outputs": [
    {
     "name": "stdout",
     "output_type": "stream",
     "text": [
      "<class 'pandas.core.frame.DataFrame'>\n",
      "Int64Index: 7787 entries, 0 to 7788\n",
      "Data columns (total 13 columns):\n",
      " #   Column        Non-Null Count  Dtype         \n",
      "---  ------        --------------  -----         \n",
      " 0   Show_Id       7787 non-null   object        \n",
      " 1   Category      7787 non-null   object        \n",
      " 2   Title         7787 non-null   object        \n",
      " 3   Director      5399 non-null   object        \n",
      " 4   Cast          7069 non-null   object        \n",
      " 5   Country       7280 non-null   object        \n",
      " 6   Release_Date  7777 non-null   object        \n",
      " 7   Rating        7780 non-null   object        \n",
      " 8   Duration      7787 non-null   object        \n",
      " 9   Type          7787 non-null   object        \n",
      " 10  Description   7787 non-null   object        \n",
      " 11  Date_Year     7777 non-null   datetime64[ns]\n",
      " 12  Year          7777 non-null   float64       \n",
      "dtypes: datetime64[ns](1), float64(1), object(11)\n",
      "memory usage: 851.7+ KB\n"
     ]
    }
   ],
   "source": [
    "Netflix_Data.info()"
   ]
  },
  {
   "cell_type": "code",
   "execution_count": 60,
   "id": "fd92ce4c-d1ac-4d63-878a-778359701f41",
   "metadata": {
    "tags": []
   },
   "outputs": [
    {
     "data": {
      "text/html": [
       "<div>\n",
       "<style scoped>\n",
       "    .dataframe tbody tr th:only-of-type {\n",
       "        vertical-align: middle;\n",
       "    }\n",
       "\n",
       "    .dataframe tbody tr th {\n",
       "        vertical-align: top;\n",
       "    }\n",
       "\n",
       "    .dataframe thead th {\n",
       "        text-align: right;\n",
       "    }\n",
       "</style>\n",
       "<table border=\"1\" class=\"dataframe\">\n",
       "  <thead>\n",
       "    <tr style=\"text-align: right;\">\n",
       "      <th></th>\n",
       "      <th>Show_Id</th>\n",
       "      <th>Category</th>\n",
       "      <th>Title</th>\n",
       "      <th>Director</th>\n",
       "      <th>Cast</th>\n",
       "      <th>Country</th>\n",
       "      <th>Release_Date</th>\n",
       "      <th>Rating</th>\n",
       "      <th>Duration</th>\n",
       "      <th>Type</th>\n",
       "      <th>Description</th>\n",
       "      <th>Date_Year</th>\n",
       "      <th>Year</th>\n",
       "    </tr>\n",
       "  </thead>\n",
       "  <tbody>\n",
       "    <tr>\n",
       "      <th>4</th>\n",
       "      <td>s5</td>\n",
       "      <td>Movie</td>\n",
       "      <td>21</td>\n",
       "      <td>Robert Luketic</td>\n",
       "      <td>Jim Sturgess, Kevin Spacey, Kate Bosworth, Aar...</td>\n",
       "      <td>United States</td>\n",
       "      <td>January 1, 2020</td>\n",
       "      <td>PG-13</td>\n",
       "      <td>123 min</td>\n",
       "      <td>Dramas</td>\n",
       "      <td>A brilliant group of students become card-coun...</td>\n",
       "      <td>2020-01-01</td>\n",
       "      <td>2020.0</td>\n",
       "    </tr>\n",
       "    <tr>\n",
       "      <th>6</th>\n",
       "      <td>s7</td>\n",
       "      <td>Movie</td>\n",
       "      <td>122</td>\n",
       "      <td>Yasir Al Yasiri</td>\n",
       "      <td>Amina Khalil, Ahmed Dawood, Tarek Lotfy, Ahmed...</td>\n",
       "      <td>Egypt</td>\n",
       "      <td>June 1, 2020</td>\n",
       "      <td>TV-MA</td>\n",
       "      <td>95 min</td>\n",
       "      <td>Horror Movies, International Movies</td>\n",
       "      <td>After an awful accident, a couple admitted to ...</td>\n",
       "      <td>2020-06-01</td>\n",
       "      <td>2020.0</td>\n",
       "    </tr>\n",
       "    <tr>\n",
       "      <th>14</th>\n",
       "      <td>s15</td>\n",
       "      <td>Movie</td>\n",
       "      <td>3022</td>\n",
       "      <td>John Suits</td>\n",
       "      <td>Omar Epps, Kate Walsh, Miranda Cosgrove, Angus...</td>\n",
       "      <td>United States</td>\n",
       "      <td>March 19, 2020</td>\n",
       "      <td>R</td>\n",
       "      <td>91 min</td>\n",
       "      <td>Independent Movies, Sci-Fi &amp; Fantasy, Thrillers</td>\n",
       "      <td>Stranded when the Earth is suddenly destroyed ...</td>\n",
       "      <td>2020-03-19</td>\n",
       "      <td>2020.0</td>\n",
       "    </tr>\n",
       "    <tr>\n",
       "      <th>27</th>\n",
       "      <td>s28</td>\n",
       "      <td>Movie</td>\n",
       "      <td>#Alive</td>\n",
       "      <td>Cho Il</td>\n",
       "      <td>Yoo Ah-in, Park Shin-hye</td>\n",
       "      <td>South Korea</td>\n",
       "      <td>September 8, 2020</td>\n",
       "      <td>TV-MA</td>\n",
       "      <td>99 min</td>\n",
       "      <td>Horror Movies, International Movies, Thrillers</td>\n",
       "      <td>As a grisly virus rampages a city, a lone man ...</td>\n",
       "      <td>2020-09-08</td>\n",
       "      <td>2020.0</td>\n",
       "    </tr>\n",
       "    <tr>\n",
       "      <th>28</th>\n",
       "      <td>s29</td>\n",
       "      <td>Movie</td>\n",
       "      <td>#AnneFrank - Parallel Stories</td>\n",
       "      <td>Sabina Fedeli, Anna Migotto</td>\n",
       "      <td>Helen Mirren, Gengher Gatti</td>\n",
       "      <td>Italy</td>\n",
       "      <td>July 1, 2020</td>\n",
       "      <td>TV-14</td>\n",
       "      <td>95 min</td>\n",
       "      <td>Documentaries, International Movies</td>\n",
       "      <td>Through her diary, Anne Frank's story is retol...</td>\n",
       "      <td>2020-07-01</td>\n",
       "      <td>2020.0</td>\n",
       "    </tr>\n",
       "  </tbody>\n",
       "</table>\n",
       "</div>"
      ],
      "text/plain": [
       "   Show_Id Category                          Title  \\\n",
       "4       s5    Movie                             21   \n",
       "6       s7    Movie                            122   \n",
       "14     s15    Movie                           3022   \n",
       "27     s28    Movie                         #Alive   \n",
       "28     s29    Movie  #AnneFrank - Parallel Stories   \n",
       "\n",
       "                       Director  \\\n",
       "4                Robert Luketic   \n",
       "6               Yasir Al Yasiri   \n",
       "14                   John Suits   \n",
       "27                       Cho Il   \n",
       "28  Sabina Fedeli, Anna Migotto   \n",
       "\n",
       "                                                 Cast        Country  \\\n",
       "4   Jim Sturgess, Kevin Spacey, Kate Bosworth, Aar...  United States   \n",
       "6   Amina Khalil, Ahmed Dawood, Tarek Lotfy, Ahmed...          Egypt   \n",
       "14  Omar Epps, Kate Walsh, Miranda Cosgrove, Angus...  United States   \n",
       "27                           Yoo Ah-in, Park Shin-hye    South Korea   \n",
       "28                        Helen Mirren, Gengher Gatti          Italy   \n",
       "\n",
       "         Release_Date Rating Duration  \\\n",
       "4     January 1, 2020  PG-13  123 min   \n",
       "6        June 1, 2020  TV-MA   95 min   \n",
       "14     March 19, 2020      R   91 min   \n",
       "27  September 8, 2020  TV-MA   99 min   \n",
       "28       July 1, 2020  TV-14   95 min   \n",
       "\n",
       "                                               Type  \\\n",
       "4                                            Dramas   \n",
       "6               Horror Movies, International Movies   \n",
       "14  Independent Movies, Sci-Fi & Fantasy, Thrillers   \n",
       "27   Horror Movies, International Movies, Thrillers   \n",
       "28              Documentaries, International Movies   \n",
       "\n",
       "                                          Description  Date_Year    Year  \n",
       "4   A brilliant group of students become card-coun... 2020-01-01  2020.0  \n",
       "6   After an awful accident, a couple admitted to ... 2020-06-01  2020.0  \n",
       "14  Stranded when the Earth is suddenly destroyed ... 2020-03-19  2020.0  \n",
       "27  As a grisly virus rampages a city, a lone man ... 2020-09-08  2020.0  \n",
       "28  Through her diary, Anne Frank's story is retol... 2020-07-01  2020.0  "
      ]
     },
     "execution_count": 60,
     "metadata": {},
     "output_type": "execute_result"
    }
   ],
   "source": [
    "Netflix_Data[(Netflix_Data['Year']==2020) & (Netflix_Data['Category']==\"Movie\")].head()"
   ]
  },
  {
   "cell_type": "markdown",
   "id": "c13cfd3f-135a-46fa-a68e-a21297a56d2f",
   "metadata": {},
   "source": [
    "### TV shows that were released in india only"
   ]
  },
  {
   "cell_type": "code",
   "execution_count": 55,
   "id": "b3d88da8-2440-4169-8025-7e56835ec5c9",
   "metadata": {
    "tags": []
   },
   "outputs": [
    {
     "data": {
      "text/html": [
       "<div>\n",
       "<style scoped>\n",
       "    .dataframe tbody tr th:only-of-type {\n",
       "        vertical-align: middle;\n",
       "    }\n",
       "\n",
       "    .dataframe tbody tr th {\n",
       "        vertical-align: top;\n",
       "    }\n",
       "\n",
       "    .dataframe thead th {\n",
       "        text-align: right;\n",
       "    }\n",
       "</style>\n",
       "<table border=\"1\" class=\"dataframe\">\n",
       "  <thead>\n",
       "    <tr style=\"text-align: right;\">\n",
       "      <th></th>\n",
       "      <th>Show_Id</th>\n",
       "      <th>Category</th>\n",
       "      <th>Title</th>\n",
       "      <th>Director</th>\n",
       "      <th>Cast</th>\n",
       "      <th>Country</th>\n",
       "      <th>Release_Date</th>\n",
       "      <th>Rating</th>\n",
       "      <th>Duration</th>\n",
       "      <th>Type</th>\n",
       "      <th>Description</th>\n",
       "      <th>Date_Year</th>\n",
       "      <th>Year</th>\n",
       "    </tr>\n",
       "  </thead>\n",
       "  <tbody>\n",
       "    <tr>\n",
       "      <th>86</th>\n",
       "      <td>s87</td>\n",
       "      <td>TV Show</td>\n",
       "      <td>21 Sarfarosh: Saragarhi 1897</td>\n",
       "      <td>NaN</td>\n",
       "      <td>Luke Kenny, Mohit Raina, Mukul Dev</td>\n",
       "      <td>India</td>\n",
       "      <td>December 1, 2018</td>\n",
       "      <td>TV-14</td>\n",
       "      <td>1 Season</td>\n",
       "      <td>International TV Shows, TV Dramas</td>\n",
       "      <td>In one of history's greatest last stands, a ba...</td>\n",
       "      <td>2018-12-01</td>\n",
       "      <td>2018.0</td>\n",
       "    </tr>\n",
       "    <tr>\n",
       "      <th>132</th>\n",
       "      <td>s133</td>\n",
       "      <td>TV Show</td>\n",
       "      <td>7 (Seven)</td>\n",
       "      <td>Nizar Shafi</td>\n",
       "      <td>Rahman, Havish, Regina Cassandra, Nandita Swet...</td>\n",
       "      <td>India</td>\n",
       "      <td>July 30, 2019</td>\n",
       "      <td>TV-14</td>\n",
       "      <td>1 Season</td>\n",
       "      <td>TV Shows</td>\n",
       "      <td>Multiple women report their husbands as missin...</td>\n",
       "      <td>2019-07-30</td>\n",
       "      <td>2019.0</td>\n",
       "    </tr>\n",
       "    <tr>\n",
       "      <th>340</th>\n",
       "      <td>s341</td>\n",
       "      <td>TV Show</td>\n",
       "      <td>Agent Raghav</td>\n",
       "      <td>NaN</td>\n",
       "      <td>Sharad Kelkar, Aahana Kumra, Mahesh Manjrekar,...</td>\n",
       "      <td>India</td>\n",
       "      <td>April 15, 2017</td>\n",
       "      <td>TV-14</td>\n",
       "      <td>1 Season</td>\n",
       "      <td>Crime TV Shows, International TV Shows, TV Act...</td>\n",
       "      <td>A mix of brilliance, erudition and skill enabl...</td>\n",
       "      <td>2017-04-15</td>\n",
       "      <td>2017.0</td>\n",
       "    </tr>\n",
       "    <tr>\n",
       "      <th>364</th>\n",
       "      <td>s365</td>\n",
       "      <td>TV Show</td>\n",
       "      <td>Akbar Birbal</td>\n",
       "      <td>NaN</td>\n",
       "      <td>Kiku Sharda, Vishal Kotian, Delnaaz Irani</td>\n",
       "      <td>India</td>\n",
       "      <td>March 31, 2020</td>\n",
       "      <td>TV-G</td>\n",
       "      <td>1 Season</td>\n",
       "      <td>Kids' TV, TV Comedies, TV Dramas</td>\n",
       "      <td>From battles of wit to fights for justice, Emp...</td>\n",
       "      <td>2020-03-31</td>\n",
       "      <td>2020.0</td>\n",
       "    </tr>\n",
       "    <tr>\n",
       "      <th>533</th>\n",
       "      <td>s534</td>\n",
       "      <td>TV Show</td>\n",
       "      <td>Anjaan: Rural Myths</td>\n",
       "      <td>NaN</td>\n",
       "      <td>NaN</td>\n",
       "      <td>India</td>\n",
       "      <td>December 15, 2018</td>\n",
       "      <td>TV-14</td>\n",
       "      <td>1 Season</td>\n",
       "      <td>International TV Shows, TV Horror, TV Thrillers</td>\n",
       "      <td>Spine-chilling stories of malevolent spirits u...</td>\n",
       "      <td>2018-12-15</td>\n",
       "      <td>2018.0</td>\n",
       "    </tr>\n",
       "  </tbody>\n",
       "</table>\n",
       "</div>"
      ],
      "text/plain": [
       "    Show_Id Category                         Title     Director  \\\n",
       "86      s87  TV Show  21 Sarfarosh: Saragarhi 1897          NaN   \n",
       "132    s133  TV Show                     7 (Seven)  Nizar Shafi   \n",
       "340    s341  TV Show                  Agent Raghav          NaN   \n",
       "364    s365  TV Show                  Akbar Birbal          NaN   \n",
       "533    s534  TV Show           Anjaan: Rural Myths          NaN   \n",
       "\n",
       "                                                  Cast Country  \\\n",
       "86                  Luke Kenny, Mohit Raina, Mukul Dev   India   \n",
       "132  Rahman, Havish, Regina Cassandra, Nandita Swet...   India   \n",
       "340  Sharad Kelkar, Aahana Kumra, Mahesh Manjrekar,...   India   \n",
       "364          Kiku Sharda, Vishal Kotian, Delnaaz Irani   India   \n",
       "533                                                NaN   India   \n",
       "\n",
       "          Release_Date Rating  Duration  \\\n",
       "86    December 1, 2018  TV-14  1 Season   \n",
       "132      July 30, 2019  TV-14  1 Season   \n",
       "340     April 15, 2017  TV-14  1 Season   \n",
       "364     March 31, 2020   TV-G  1 Season   \n",
       "533  December 15, 2018  TV-14  1 Season   \n",
       "\n",
       "                                                  Type  \\\n",
       "86                   International TV Shows, TV Dramas   \n",
       "132                                           TV Shows   \n",
       "340  Crime TV Shows, International TV Shows, TV Act...   \n",
       "364                   Kids' TV, TV Comedies, TV Dramas   \n",
       "533    International TV Shows, TV Horror, TV Thrillers   \n",
       "\n",
       "                                           Description  Date_Year    Year  \n",
       "86   In one of history's greatest last stands, a ba... 2018-12-01  2018.0  \n",
       "132  Multiple women report their husbands as missin... 2019-07-30  2019.0  \n",
       "340  A mix of brilliance, erudition and skill enabl... 2017-04-15  2017.0  \n",
       "364  From battles of wit to fights for justice, Emp... 2020-03-31  2020.0  \n",
       "533  Spine-chilling stories of malevolent spirits u... 2018-12-15  2018.0  "
      ]
     },
     "execution_count": 55,
     "metadata": {},
     "output_type": "execute_result"
    }
   ],
   "source": [
    "Netflix_Data[(Netflix_Data['Country']==\"India\") & (Netflix_Data['Category']==\"TV Show\")].head()"
   ]
  },
  {
   "cell_type": "code",
   "execution_count": 56,
   "id": "c88ce98e-b2d8-4898-abd2-8515b19114cd",
   "metadata": {
    "tags": []
   },
   "outputs": [
    {
     "data": {
      "text/plain": [
       "86     21 Sarfarosh: Saragarhi 1897\n",
       "132                       7 (Seven)\n",
       "340                    Agent Raghav\n",
       "364                    Akbar Birbal\n",
       "533             Anjaan: Rural Myths\n",
       "Name: Title, dtype: object"
      ]
     },
     "execution_count": 56,
     "metadata": {},
     "output_type": "execute_result"
    }
   ],
   "source": [
    "# and if we want to see only titles\n",
    "Netflix_Data[(Netflix_Data['Country']==\"India\") & (Netflix_Data['Category']==\"TV Show\")]['Title'].head()"
   ]
  },
  {
   "cell_type": "markdown",
   "id": "75a65583-ba46-447c-a2ed-32f56af9df62",
   "metadata": {},
   "source": [
    "### Top 10 directors ,who gave the highest number  of TV shows and movies to netflix"
   ]
  },
  {
   "cell_type": "code",
   "execution_count": 29,
   "id": "36537dd0-2f5c-425e-ad99-abecccc0cdf9",
   "metadata": {
    "tags": []
   },
   "outputs": [
    {
     "data": {
      "text/plain": [
       "Raúl Campos, Jan Suter    18\n",
       "Marcus Raboy              16\n",
       "Jay Karas                 14\n",
       "Cathy Garcia-Molina       13\n",
       "Jay Chapman               12\n",
       "Youssef Chahine           12\n",
       "Martin Scorsese           12\n",
       "Steven Spielberg          10\n",
       "David Dhawan               9\n",
       "Hakan Algül                8\n",
       "Name: Director, dtype: int64"
      ]
     },
     "execution_count": 29,
     "metadata": {},
     "output_type": "execute_result"
    }
   ],
   "source": [
    "#Netflix_Data.groupby(\"Director\").Category.count()\n",
    "Netflix_Data[\"Director\"].value_counts().head(10) "
   ]
  },
  {
   "cell_type": "markdown",
   "id": "82d2d002-83f8-4d6d-bb9c-d619dea09f2e",
   "metadata": {},
   "source": [
    "### all records where Category is \"Movie\" or type is \"comidies\" and \"Country \" is united kingdom"
   ]
  },
  {
   "cell_type": "code",
   "execution_count": 30,
   "id": "8f6b8103-4aca-4a21-99e6-cbb6fcc7e01d",
   "metadata": {
    "tags": []
   },
   "outputs": [
    {
     "data": {
      "text/html": [
       "<div>\n",
       "<style scoped>\n",
       "    .dataframe tbody tr th:only-of-type {\n",
       "        vertical-align: middle;\n",
       "    }\n",
       "\n",
       "    .dataframe tbody tr th {\n",
       "        vertical-align: top;\n",
       "    }\n",
       "\n",
       "    .dataframe thead th {\n",
       "        text-align: right;\n",
       "    }\n",
       "</style>\n",
       "<table border=\"1\" class=\"dataframe\">\n",
       "  <thead>\n",
       "    <tr style=\"text-align: right;\">\n",
       "      <th></th>\n",
       "      <th>Show_Id</th>\n",
       "      <th>Category</th>\n",
       "      <th>Title</th>\n",
       "      <th>Director</th>\n",
       "      <th>Cast</th>\n",
       "      <th>Country</th>\n",
       "      <th>Release_Date</th>\n",
       "      <th>Rating</th>\n",
       "      <th>Duration</th>\n",
       "      <th>Type</th>\n",
       "      <th>Description</th>\n",
       "      <th>Date_Year</th>\n",
       "      <th>Year</th>\n",
       "    </tr>\n",
       "  </thead>\n",
       "  <tbody>\n",
       "    <tr>\n",
       "      <th>19</th>\n",
       "      <td>s20</td>\n",
       "      <td>Movie</td>\n",
       "      <td>'89</td>\n",
       "      <td>NaN</td>\n",
       "      <td>Lee Dixon, Ian Wright, Paul Merson</td>\n",
       "      <td>United Kingdom</td>\n",
       "      <td>May 16, 2018</td>\n",
       "      <td>TV-PG</td>\n",
       "      <td>87 min</td>\n",
       "      <td>Sports Movies</td>\n",
       "      <td>Mixing old footage with interviews, this is th...</td>\n",
       "      <td>2018-05-16</td>\n",
       "      <td>2018.0</td>\n",
       "    </tr>\n",
       "    <tr>\n",
       "      <th>82</th>\n",
       "      <td>s83</td>\n",
       "      <td>Movie</td>\n",
       "      <td>2036 Origin Unknown</td>\n",
       "      <td>Hasraf Dulull</td>\n",
       "      <td>Katee Sackhoff, Ray Fearon, Julie Cox, Steven ...</td>\n",
       "      <td>United Kingdom</td>\n",
       "      <td>December 20, 2018</td>\n",
       "      <td>TV-14</td>\n",
       "      <td>95 min</td>\n",
       "      <td>Sci-Fi &amp; Fantasy</td>\n",
       "      <td>Working with an artificial intelligence to inv...</td>\n",
       "      <td>2018-12-20</td>\n",
       "      <td>2018.0</td>\n",
       "    </tr>\n",
       "    <tr>\n",
       "      <th>93</th>\n",
       "      <td>s94</td>\n",
       "      <td>Movie</td>\n",
       "      <td>27: Gone Too Soon</td>\n",
       "      <td>Simon Napier-Bell</td>\n",
       "      <td>Janis Joplin, Jimi Hendrix, Amy Winehouse, Jim...</td>\n",
       "      <td>United Kingdom</td>\n",
       "      <td>May 1, 2018</td>\n",
       "      <td>TV-MA</td>\n",
       "      <td>70 min</td>\n",
       "      <td>Documentaries</td>\n",
       "      <td>Explore the circumstances surrounding the trag...</td>\n",
       "      <td>2018-05-01</td>\n",
       "      <td>2018.0</td>\n",
       "    </tr>\n",
       "    <tr>\n",
       "      <th>181</th>\n",
       "      <td>s182</td>\n",
       "      <td>Movie</td>\n",
       "      <td>A Grand Night In: The Story of Aardman</td>\n",
       "      <td>Richard Mears</td>\n",
       "      <td>Julie Walters</td>\n",
       "      <td>United Kingdom</td>\n",
       "      <td>November 1, 2016</td>\n",
       "      <td>TV-PG</td>\n",
       "      <td>59 min</td>\n",
       "      <td>Documentaries</td>\n",
       "      <td>Aardman Animations icons Wallace &amp; Gromit, Mor...</td>\n",
       "      <td>2016-11-01</td>\n",
       "      <td>2016.0</td>\n",
       "    </tr>\n",
       "    <tr>\n",
       "      <th>196</th>\n",
       "      <td>s197</td>\n",
       "      <td>Movie</td>\n",
       "      <td>A Little Chaos</td>\n",
       "      <td>Alan Rickman</td>\n",
       "      <td>Kate Winslet, Matthias Schoenaerts, Alan Rickm...</td>\n",
       "      <td>United Kingdom</td>\n",
       "      <td>April 17, 2019</td>\n",
       "      <td>R</td>\n",
       "      <td>113 min</td>\n",
       "      <td>Dramas, Independent Movies, International Movies</td>\n",
       "      <td>A willful young woman is hired to design a gar...</td>\n",
       "      <td>2019-04-17</td>\n",
       "      <td>2019.0</td>\n",
       "    </tr>\n",
       "  </tbody>\n",
       "</table>\n",
       "</div>"
      ],
      "text/plain": [
       "    Show_Id Category                                   Title  \\\n",
       "19      s20    Movie                                     '89   \n",
       "82      s83    Movie                     2036 Origin Unknown   \n",
       "93      s94    Movie                       27: Gone Too Soon   \n",
       "181    s182    Movie  A Grand Night In: The Story of Aardman   \n",
       "196    s197    Movie                          A Little Chaos   \n",
       "\n",
       "              Director                                               Cast  \\\n",
       "19                 NaN                 Lee Dixon, Ian Wright, Paul Merson   \n",
       "82       Hasraf Dulull  Katee Sackhoff, Ray Fearon, Julie Cox, Steven ...   \n",
       "93   Simon Napier-Bell  Janis Joplin, Jimi Hendrix, Amy Winehouse, Jim...   \n",
       "181      Richard Mears                                      Julie Walters   \n",
       "196       Alan Rickman  Kate Winslet, Matthias Schoenaerts, Alan Rickm...   \n",
       "\n",
       "            Country       Release_Date Rating Duration  \\\n",
       "19   United Kingdom       May 16, 2018  TV-PG   87 min   \n",
       "82   United Kingdom  December 20, 2018  TV-14   95 min   \n",
       "93   United Kingdom        May 1, 2018  TV-MA   70 min   \n",
       "181  United Kingdom   November 1, 2016  TV-PG   59 min   \n",
       "196  United Kingdom     April 17, 2019      R  113 min   \n",
       "\n",
       "                                                 Type  \\\n",
       "19                                      Sports Movies   \n",
       "82                                   Sci-Fi & Fantasy   \n",
       "93                                      Documentaries   \n",
       "181                                     Documentaries   \n",
       "196  Dramas, Independent Movies, International Movies   \n",
       "\n",
       "                                           Description  Date_Year    Year  \n",
       "19   Mixing old footage with interviews, this is th... 2018-05-16  2018.0  \n",
       "82   Working with an artificial intelligence to inv... 2018-12-20  2018.0  \n",
       "93   Explore the circumstances surrounding the trag... 2018-05-01  2018.0  \n",
       "181  Aardman Animations icons Wallace & Gromit, Mor... 2016-11-01  2016.0  \n",
       "196  A willful young woman is hired to design a gar... 2019-04-17  2019.0  "
      ]
     },
     "execution_count": 30,
     "metadata": {},
     "output_type": "execute_result"
    }
   ],
   "source": [
    "Netflix_Data[(Netflix_Data['Category']==\"Movie\") & ((Netflix_Data['Type']=='Horror Movies') | (Netflix_Data['Country']=='United Kingdom'))].head()"
   ]
  },
  {
   "cell_type": "markdown",
   "id": "f93ec1e1-989f-4b9b-8cf4-00d32d61b87c",
   "metadata": {},
   "source": [
    "### Julie Walters movies"
   ]
  },
  {
   "cell_type": "code",
   "execution_count": 32,
   "id": "0cce6ca7-64cf-4052-b447-a2eb5cf6363c",
   "metadata": {
    "tags": []
   },
   "outputs": [
    {
     "data": {
      "text/html": [
       "<div>\n",
       "<style scoped>\n",
       "    .dataframe tbody tr th:only-of-type {\n",
       "        vertical-align: middle;\n",
       "    }\n",
       "\n",
       "    .dataframe tbody tr th {\n",
       "        vertical-align: top;\n",
       "    }\n",
       "\n",
       "    .dataframe thead th {\n",
       "        text-align: right;\n",
       "    }\n",
       "</style>\n",
       "<table border=\"1\" class=\"dataframe\">\n",
       "  <thead>\n",
       "    <tr style=\"text-align: right;\">\n",
       "      <th></th>\n",
       "      <th>Show_Id</th>\n",
       "      <th>Category</th>\n",
       "      <th>Title</th>\n",
       "      <th>Director</th>\n",
       "      <th>Cast</th>\n",
       "      <th>Country</th>\n",
       "      <th>Release_Date</th>\n",
       "      <th>Rating</th>\n",
       "      <th>Duration</th>\n",
       "      <th>Type</th>\n",
       "      <th>Description</th>\n",
       "      <th>Date_Year</th>\n",
       "      <th>Year</th>\n",
       "    </tr>\n",
       "  </thead>\n",
       "  <tbody>\n",
       "    <tr>\n",
       "      <th>181</th>\n",
       "      <td>s182</td>\n",
       "      <td>Movie</td>\n",
       "      <td>A Grand Night In: The Story of Aardman</td>\n",
       "      <td>Richard Mears</td>\n",
       "      <td>Julie Walters</td>\n",
       "      <td>United Kingdom</td>\n",
       "      <td>November 1, 2016</td>\n",
       "      <td>TV-PG</td>\n",
       "      <td>59 min</td>\n",
       "      <td>Documentaries</td>\n",
       "      <td>Aardman Animations icons Wallace &amp; Gromit, Mor...</td>\n",
       "      <td>2016-11-01</td>\n",
       "      <td>2016.0</td>\n",
       "    </tr>\n",
       "  </tbody>\n",
       "</table>\n",
       "</div>"
      ],
      "text/plain": [
       "    Show_Id Category                                   Title       Director  \\\n",
       "181    s182    Movie  A Grand Night In: The Story of Aardman  Richard Mears   \n",
       "\n",
       "              Cast         Country      Release_Date Rating Duration  \\\n",
       "181  Julie Walters  United Kingdom  November 1, 2016  TV-PG   59 min   \n",
       "\n",
       "              Type                                        Description  \\\n",
       "181  Documentaries  Aardman Animations icons Wallace & Gromit, Mor...   \n",
       "\n",
       "     Date_Year    Year  \n",
       "181 2016-11-01  2016.0  "
      ]
     },
     "execution_count": 32,
     "metadata": {},
     "output_type": "execute_result"
    }
   ],
   "source": [
    "#Netflix_Data[Netflix_Data['Cast']=='Julie Walters']\n",
    "Netflix_Data[(Netflix_Data['Category']=='Movie') & (Netflix_Data['Cast']=='Julie Walters')]"
   ]
  },
  {
   "cell_type": "markdown",
   "id": "7e6d9a0c-a8ca-484a-b9e5-aa0f767c84f3",
   "metadata": {},
   "source": [
    "### Another method"
   ]
  },
  {
   "cell_type": "markdown",
   "id": "76fa741c-e2bc-46ec-b599-7a8cb0e5ba0d",
   "metadata": {},
   "source": [
    "### First we have to remove null values in perticuler column"
   ]
  },
  {
   "cell_type": "code",
   "execution_count": 33,
   "id": "cd1c3396-77ba-4251-a127-97ec54be19e3",
   "metadata": {
    "tags": []
   },
   "outputs": [],
   "source": [
    "Data_new=Netflix_Data.dropna()"
   ]
  },
  {
   "cell_type": "code",
   "execution_count": 34,
   "id": "1fb0e9b8-2003-42ae-8297-546efb0f9a61",
   "metadata": {
    "tags": []
   },
   "outputs": [
    {
     "data": {
      "text/html": [
       "<div>\n",
       "<style scoped>\n",
       "    .dataframe tbody tr th:only-of-type {\n",
       "        vertical-align: middle;\n",
       "    }\n",
       "\n",
       "    .dataframe tbody tr th {\n",
       "        vertical-align: top;\n",
       "    }\n",
       "\n",
       "    .dataframe thead th {\n",
       "        text-align: right;\n",
       "    }\n",
       "</style>\n",
       "<table border=\"1\" class=\"dataframe\">\n",
       "  <thead>\n",
       "    <tr style=\"text-align: right;\">\n",
       "      <th></th>\n",
       "      <th>Show_Id</th>\n",
       "      <th>Category</th>\n",
       "      <th>Title</th>\n",
       "      <th>Director</th>\n",
       "      <th>Cast</th>\n",
       "      <th>Country</th>\n",
       "      <th>Release_Date</th>\n",
       "      <th>Rating</th>\n",
       "      <th>Duration</th>\n",
       "      <th>Type</th>\n",
       "      <th>Description</th>\n",
       "      <th>Date_Year</th>\n",
       "      <th>Year</th>\n",
       "    </tr>\n",
       "  </thead>\n",
       "  <tbody>\n",
       "    <tr>\n",
       "      <th>3860</th>\n",
       "      <td>s3861</td>\n",
       "      <td>Movie</td>\n",
       "      <td>Magnolia</td>\n",
       "      <td>Paul Thomas Anderson</td>\n",
       "      <td>Jeremy Blackman, Tom Cruise, Melinda Dillon, A...</td>\n",
       "      <td>United States</td>\n",
       "      <td>January 1, 2020</td>\n",
       "      <td>R</td>\n",
       "      <td>189 min</td>\n",
       "      <td>Dramas, Independent Movies</td>\n",
       "      <td>Through chance, human action, past history and...</td>\n",
       "      <td>2020-01-01</td>\n",
       "      <td>2020.0</td>\n",
       "    </tr>\n",
       "    <tr>\n",
       "      <th>5071</th>\n",
       "      <td>s5071</td>\n",
       "      <td>Movie</td>\n",
       "      <td>Rain Man</td>\n",
       "      <td>Barry Levinson</td>\n",
       "      <td>Dustin Hoffman, Tom Cruise, Valeria Golino, Ge...</td>\n",
       "      <td>United States</td>\n",
       "      <td>July 1, 2019</td>\n",
       "      <td>R</td>\n",
       "      <td>134 min</td>\n",
       "      <td>Classic Movies, Dramas</td>\n",
       "      <td>A fast-talking yuppie is forced to slow down w...</td>\n",
       "      <td>2019-07-01</td>\n",
       "      <td>2019.0</td>\n",
       "    </tr>\n",
       "  </tbody>\n",
       "</table>\n",
       "</div>"
      ],
      "text/plain": [
       "     Show_Id Category     Title              Director  \\\n",
       "3860   s3861    Movie  Magnolia  Paul Thomas Anderson   \n",
       "5071   s5071    Movie  Rain Man        Barry Levinson   \n",
       "\n",
       "                                                   Cast        Country  \\\n",
       "3860  Jeremy Blackman, Tom Cruise, Melinda Dillon, A...  United States   \n",
       "5071  Dustin Hoffman, Tom Cruise, Valeria Golino, Ge...  United States   \n",
       "\n",
       "         Release_Date Rating Duration                        Type  \\\n",
       "3860  January 1, 2020      R  189 min  Dramas, Independent Movies   \n",
       "5071     July 1, 2019      R  134 min      Classic Movies, Dramas   \n",
       "\n",
       "                                            Description  Date_Year    Year  \n",
       "3860  Through chance, human action, past history and... 2020-01-01  2020.0  \n",
       "5071  A fast-talking yuppie is forced to slow down w... 2019-07-01  2019.0  "
      ]
     },
     "execution_count": 34,
     "metadata": {},
     "output_type": "execute_result"
    }
   ],
   "source": [
    "Data_new[Data_new['Cast'].str.contains('Tom Cruise')]"
   ]
  },
  {
   "cell_type": "markdown",
   "id": "70cf218b-599a-4aa1-be96-4ad997923961",
   "metadata": {},
   "source": [
    "### Diffrent types of rating given by the Netflix"
   ]
  },
  {
   "cell_type": "code",
   "execution_count": 35,
   "id": "ce5767d5-744c-469d-8a92-a6c614033708",
   "metadata": {
    "tags": []
   },
   "outputs": [
    {
     "data": {
      "text/plain": [
       "array(['TV-MA', 'R', 'PG-13', 'TV-14', 'TV-G', 'TV-PG', 'NR', 'PG', 'G',\n",
       "       'TV-Y7', 'TV-Y', 'NC-17', 'TV-Y7-FV', 'UR'], dtype=object)"
      ]
     },
     "execution_count": 35,
     "metadata": {},
     "output_type": "execute_result"
    }
   ],
   "source": [
    "Data_new['Rating'].unique()"
   ]
  },
  {
   "cell_type": "code",
   "execution_count": 36,
   "id": "b5a21f3e-b30e-440c-b74c-e42255cc4774",
   "metadata": {
    "tags": []
   },
   "outputs": [
    {
     "data": {
      "text/plain": [
       "14"
      ]
     },
     "execution_count": 36,
     "metadata": {},
     "output_type": "execute_result"
    }
   ],
   "source": [
    "Data_new['Rating'].nunique()"
   ]
  },
  {
   "cell_type": "markdown",
   "id": "7c91facd-7ebf-4559-91e5-216b5bbce5d7",
   "metadata": {},
   "source": [
    "### count of perticuler rating (TV-14) "
   ]
  },
  {
   "cell_type": "code",
   "execution_count": 37,
   "id": "7a033a69-96c0-43a7-9989-b75f59cf0288",
   "metadata": {
    "tags": []
   },
   "outputs": [
    {
     "data": {
      "text/plain": [
       "(1133, 13)"
      ]
     },
     "execution_count": 37,
     "metadata": {},
     "output_type": "execute_result"
    }
   ],
   "source": [
    "Data_new[Data_new['Rating']==\"TV-14\"].shape"
   ]
  },
  {
   "cell_type": "code",
   "execution_count": 38,
   "id": "cecd15ca-369f-41d1-bc18-3aba0a554554",
   "metadata": {
    "tags": []
   },
   "outputs": [
    {
     "data": {
      "text/plain": [
       "Show_Id         1133\n",
       "Category        1133\n",
       "Title           1133\n",
       "Director        1133\n",
       "Cast            1133\n",
       "Country         1133\n",
       "Release_Date    1133\n",
       "Rating          1133\n",
       "Duration        1133\n",
       "Type            1133\n",
       "Description     1133\n",
       "Date_Year       1133\n",
       "Year            1133\n",
       "dtype: int64"
      ]
     },
     "execution_count": 38,
     "metadata": {},
     "output_type": "execute_result"
    }
   ],
   "source": [
    "Data_new[Data_new['Rating']==\"TV-14\"].count()"
   ]
  },
  {
   "cell_type": "markdown",
   "id": "57333eae-384a-4a36-bf66-5b7776b03728",
   "metadata": {},
   "source": [
    "### movies got TV-14 rating in canada"
   ]
  },
  {
   "cell_type": "code",
   "execution_count": 39,
   "id": "7f4658c4-4454-4530-af95-422775b0e17f",
   "metadata": {
    "tags": []
   },
   "outputs": [
    {
     "data": {
      "text/plain": [
       "(9, 13)"
      ]
     },
     "execution_count": 39,
     "metadata": {},
     "output_type": "execute_result"
    }
   ],
   "source": [
    "Data_new[(Data_new['Category']=='Movie') & (Data_new['Country']=='Canada')&(Data_new['Rating']=='TV-14')].shape"
   ]
  },
  {
   "cell_type": "markdown",
   "id": "a8efc16c-9771-4cc6-adc2-72301194e917",
   "metadata": {},
   "source": [
    "### movies got 'R' rating after 2018:"
   ]
  },
  {
   "cell_type": "code",
   "execution_count": 40,
   "id": "3c0a9d7f-9e0c-4f2b-8b25-0dfbff828d36",
   "metadata": {
    "tags": []
   },
   "outputs": [
    {
     "data": {
      "text/plain": [
       "(443, 13)"
      ]
     },
     "execution_count": 40,
     "metadata": {},
     "output_type": "execute_result"
    }
   ],
   "source": [
    "Data_new[(Data_new['Category']=='Movie') & (Data_new['Rating']=='R') & (Data_new['Year']>2018)].shape"
   ]
  },
  {
   "cell_type": "markdown",
   "id": "7a45eb4e-a35c-456e-9bee-622e5a897fd8",
   "metadata": {
    "tags": []
   },
   "source": [
    "### maximum Duration of any TV show and movie"
   ]
  },
  {
   "cell_type": "code",
   "execution_count": 41,
   "id": "ec12103e-cee3-42f7-9983-6342c4a37405",
   "metadata": {
    "tags": []
   },
   "outputs": [
    {
     "data": {
      "text/plain": [
       "array(['93 min', '78 min', '80 min', '123 min', '1 Season', '95 min',\n",
       "       '119 min', '118 min', '143 min', '103 min', '89 min', '91 min',\n",
       "       '149 min', '144 min', '124 min', '110 min', '128 min', '117 min',\n",
       "       '100 min', '99 min', '102 min', '104 min', '105 min', '125 min',\n",
       "       '81 min', '97 min', '106 min', '107 min', '87 min', '109 min',\n",
       "       '101 min', '90 min', '113 min', '114 min', '130 min', '94 min',\n",
       "       '140 min', '135 min', '82 min', '70 min', '92 min', '164 min',\n",
       "       '83 min', '116 min', '84 min', '86 min', '120 min', '96 min',\n",
       "       '126 min', '75 min', '129 min', '77 min', '137 min', '148 min',\n",
       "       '121 min', '122 min', '176 min', '85 min', '22 min', '68 min',\n",
       "       '111 min', '29 min', '142 min', '168 min', '59 min', '108 min',\n",
       "       '44 min', '26 min', '156 min', '98 min', '57 min', '150 min',\n",
       "       '133 min', '115 min', '154 min', '127 min', '146 min', '136 min',\n",
       "       '88 min', '131 min', '2 Seasons', '24 min', '112 min', '74 min',\n",
       "       '63 min', '174 min', '60 min', '153 min', '158 min', '151 min',\n",
       "       '162 min', '54 min', '51 min', '69 min', '64 min', '147 min',\n",
       "       '42 min', '79 min', '45 min', '172 min', '53 min', '163 min',\n",
       "       '55 min', '61 min', '71 min', '160 min', '171 min', '30 min',\n",
       "       '48 min', '139 min', '157 min', '15 min', '72 min', '134 min',\n",
       "       '161 min', '62 min', '8 Seasons', '186 min', '49 min', '73 min',\n",
       "       '58 min', '65 min', '165 min', '159 min', '141 min', '132 min',\n",
       "       '166 min', '76 min', '25 min', '56 min', '138 min', '67 min',\n",
       "       '28 min', '66 min', '180 min', '47 min', '155 min', '14 min',\n",
       "       '177 min', '9 Seasons', '46 min', '145 min', '6 Seasons', '8 min',\n",
       "       '12 min', '52 min', '5 Seasons', '43 min', '4 Seasons', '185 min',\n",
       "       '200 min', '169 min', '27 min', '170 min', '196 min', '33 min',\n",
       "       '181 min', '32 min', '167 min', '179 min', '3 Seasons', '193 min',\n",
       "       '214 min', '173 min', '192 min', '209 min', '187 min', '41 min',\n",
       "       '182 min', '23 min', '224 min', '37 min', '35 min', '20 min',\n",
       "       '50 min', '189 min', '152 min', '38 min', '208 min', '237 min',\n",
       "       '31 min', '178 min', '194 min', '228 min', '195 min', '15 Seasons',\n",
       "       '18 min', '205 min', '201 min', '40 min', '253 min', '190 min',\n",
       "       '17 min', '203 min', '191 min'], dtype=object)"
      ]
     },
     "execution_count": 41,
     "metadata": {},
     "output_type": "execute_result"
    }
   ],
   "source": [
    "Data_new['Duration'].unique()"
   ]
  },
  {
   "cell_type": "markdown",
   "id": "f1a6c467-2cb6-49aa-aee3-ff1441eac961",
   "metadata": {},
   "source": [
    "### Split the duration in seaason and minutes"
   ]
  },
  {
   "cell_type": "code",
   "execution_count": 42,
   "id": "1b282d69-a2c2-4fe1-ad45-d629117041bb",
   "metadata": {
    "collapsed": true,
    "jupyter": {
     "outputs_hidden": true
    },
    "tags": []
   },
   "outputs": [
    {
     "name": "stderr",
     "output_type": "stream",
     "text": [
      "C:\\Users\\aakas\\AppData\\Local\\Temp\\ipykernel_27032\\638545020.py:1: SettingWithCopyWarning: \n",
      "A value is trying to be set on a copy of a slice from a DataFrame.\n",
      "Try using .loc[row_indexer,col_indexer] = value instead\n",
      "\n",
      "See the caveats in the documentation: https://pandas.pydata.org/pandas-docs/stable/user_guide/indexing.html#returning-a-view-versus-a-copy\n",
      "  Data_new[['minutes','seasons']] = Data_new['Duration'].str.split(' ',expand=True)\n",
      "C:\\Users\\aakas\\AppData\\Local\\Temp\\ipykernel_27032\\638545020.py:1: SettingWithCopyWarning: \n",
      "A value is trying to be set on a copy of a slice from a DataFrame.\n",
      "Try using .loc[row_indexer,col_indexer] = value instead\n",
      "\n",
      "See the caveats in the documentation: https://pandas.pydata.org/pandas-docs/stable/user_guide/indexing.html#returning-a-view-versus-a-copy\n",
      "  Data_new[['minutes','seasons']] = Data_new['Duration'].str.split(' ',expand=True)\n"
     ]
    }
   ],
   "source": [
    "Data_new[['minutes','seasons']] = Data_new['Duration'].str.split(' ',expand=True)"
   ]
  },
  {
   "cell_type": "code",
   "execution_count": 43,
   "id": "961a439f-979d-487f-90d8-d7f1acc09705",
   "metadata": {
    "tags": []
   },
   "outputs": [
    {
     "name": "stdout",
     "output_type": "stream",
     "text": [
      "<class 'pandas.core.frame.DataFrame'>\n",
      "Int64Index: 4809 entries, 1 to 7785\n",
      "Data columns (total 15 columns):\n",
      " #   Column        Non-Null Count  Dtype         \n",
      "---  ------        --------------  -----         \n",
      " 0   Show_Id       4809 non-null   object        \n",
      " 1   Category      4809 non-null   object        \n",
      " 2   Title         4809 non-null   object        \n",
      " 3   Director      4809 non-null   object        \n",
      " 4   Cast          4809 non-null   object        \n",
      " 5   Country       4809 non-null   object        \n",
      " 6   Release_Date  4809 non-null   object        \n",
      " 7   Rating        4809 non-null   object        \n",
      " 8   Duration      4809 non-null   object        \n",
      " 9   Type          4809 non-null   object        \n",
      " 10  Description   4809 non-null   object        \n",
      " 11  Date_Year     4809 non-null   datetime64[ns]\n",
      " 12  Year          4809 non-null   float64       \n",
      " 13  minutes       4809 non-null   object        \n",
      " 14  seasons       4809 non-null   object        \n",
      "dtypes: datetime64[ns](1), float64(1), object(13)\n",
      "memory usage: 601.1+ KB\n"
     ]
    }
   ],
   "source": [
    "Data_new.info()"
   ]
  },
  {
   "cell_type": "code",
   "execution_count": 44,
   "id": "492c79ef-d5de-4263-b4d4-6f0ddfbe3a65",
   "metadata": {
    "tags": []
   },
   "outputs": [
    {
     "data": {
      "text/html": [
       "<div>\n",
       "<style scoped>\n",
       "    .dataframe tbody tr th:only-of-type {\n",
       "        vertical-align: middle;\n",
       "    }\n",
       "\n",
       "    .dataframe tbody tr th {\n",
       "        vertical-align: top;\n",
       "    }\n",
       "\n",
       "    .dataframe thead th {\n",
       "        text-align: right;\n",
       "    }\n",
       "</style>\n",
       "<table border=\"1\" class=\"dataframe\">\n",
       "  <thead>\n",
       "    <tr style=\"text-align: right;\">\n",
       "      <th></th>\n",
       "      <th>Show_Id</th>\n",
       "      <th>Category</th>\n",
       "      <th>Title</th>\n",
       "      <th>Director</th>\n",
       "      <th>Cast</th>\n",
       "      <th>Country</th>\n",
       "      <th>Release_Date</th>\n",
       "      <th>Rating</th>\n",
       "      <th>Duration</th>\n",
       "      <th>Type</th>\n",
       "      <th>Description</th>\n",
       "      <th>Date_Year</th>\n",
       "      <th>Year</th>\n",
       "      <th>minutes</th>\n",
       "      <th>seasons</th>\n",
       "    </tr>\n",
       "  </thead>\n",
       "  <tbody>\n",
       "    <tr>\n",
       "      <th>1</th>\n",
       "      <td>s2</td>\n",
       "      <td>Movie</td>\n",
       "      <td>07:19</td>\n",
       "      <td>Jorge Michel Grau</td>\n",
       "      <td>Demián Bichir, Héctor Bonilla, Oscar Serrano, ...</td>\n",
       "      <td>Mexico</td>\n",
       "      <td>December 23, 2016</td>\n",
       "      <td>TV-MA</td>\n",
       "      <td>93 min</td>\n",
       "      <td>Dramas, International Movies</td>\n",
       "      <td>After a devastating earthquake hits Mexico Cit...</td>\n",
       "      <td>2016-12-23</td>\n",
       "      <td>2016.0</td>\n",
       "      <td>93</td>\n",
       "      <td>min</td>\n",
       "    </tr>\n",
       "    <tr>\n",
       "      <th>2</th>\n",
       "      <td>s3</td>\n",
       "      <td>Movie</td>\n",
       "      <td>23:59</td>\n",
       "      <td>Gilbert Chan</td>\n",
       "      <td>Tedd Chan, Stella Chung, Henley Hii, Lawrence ...</td>\n",
       "      <td>Singapore</td>\n",
       "      <td>December 20, 2018</td>\n",
       "      <td>R</td>\n",
       "      <td>78 min</td>\n",
       "      <td>Horror Movies, International Movies</td>\n",
       "      <td>When an army recruit is found dead, his fellow...</td>\n",
       "      <td>2018-12-20</td>\n",
       "      <td>2018.0</td>\n",
       "      <td>78</td>\n",
       "      <td>min</td>\n",
       "    </tr>\n",
       "    <tr>\n",
       "      <th>3</th>\n",
       "      <td>s4</td>\n",
       "      <td>Movie</td>\n",
       "      <td>9</td>\n",
       "      <td>Shane Acker</td>\n",
       "      <td>Elijah Wood, John C. Reilly, Jennifer Connelly...</td>\n",
       "      <td>United States</td>\n",
       "      <td>November 16, 2017</td>\n",
       "      <td>PG-13</td>\n",
       "      <td>80 min</td>\n",
       "      <td>Action &amp; Adventure, Independent Movies, Sci-Fi...</td>\n",
       "      <td>In a postapocalyptic world, rag-doll robots hi...</td>\n",
       "      <td>2017-11-16</td>\n",
       "      <td>2017.0</td>\n",
       "      <td>80</td>\n",
       "      <td>min</td>\n",
       "    </tr>\n",
       "    <tr>\n",
       "      <th>4</th>\n",
       "      <td>s5</td>\n",
       "      <td>Movie</td>\n",
       "      <td>21</td>\n",
       "      <td>Robert Luketic</td>\n",
       "      <td>Jim Sturgess, Kevin Spacey, Kate Bosworth, Aar...</td>\n",
       "      <td>United States</td>\n",
       "      <td>January 1, 2020</td>\n",
       "      <td>PG-13</td>\n",
       "      <td>123 min</td>\n",
       "      <td>Dramas</td>\n",
       "      <td>A brilliant group of students become card-coun...</td>\n",
       "      <td>2020-01-01</td>\n",
       "      <td>2020.0</td>\n",
       "      <td>123</td>\n",
       "      <td>min</td>\n",
       "    </tr>\n",
       "    <tr>\n",
       "      <th>5</th>\n",
       "      <td>s6</td>\n",
       "      <td>TV Show</td>\n",
       "      <td>46</td>\n",
       "      <td>Serdar Akar</td>\n",
       "      <td>Erdal Beşikçioğlu, Yasemin Allen, Melis Birkan...</td>\n",
       "      <td>Turkey</td>\n",
       "      <td>July 1, 2017</td>\n",
       "      <td>TV-MA</td>\n",
       "      <td>1 Season</td>\n",
       "      <td>International TV Shows, TV Dramas, TV Mysteries</td>\n",
       "      <td>A genetics professor experiments with a treatm...</td>\n",
       "      <td>2017-07-01</td>\n",
       "      <td>2017.0</td>\n",
       "      <td>1</td>\n",
       "      <td>Season</td>\n",
       "    </tr>\n",
       "  </tbody>\n",
       "</table>\n",
       "</div>"
      ],
      "text/plain": [
       "  Show_Id Category  Title           Director  \\\n",
       "1      s2    Movie  07:19  Jorge Michel Grau   \n",
       "2      s3    Movie  23:59       Gilbert Chan   \n",
       "3      s4    Movie      9        Shane Acker   \n",
       "4      s5    Movie     21     Robert Luketic   \n",
       "5      s6  TV Show     46        Serdar Akar   \n",
       "\n",
       "                                                Cast        Country  \\\n",
       "1  Demián Bichir, Héctor Bonilla, Oscar Serrano, ...         Mexico   \n",
       "2  Tedd Chan, Stella Chung, Henley Hii, Lawrence ...      Singapore   \n",
       "3  Elijah Wood, John C. Reilly, Jennifer Connelly...  United States   \n",
       "4  Jim Sturgess, Kevin Spacey, Kate Bosworth, Aar...  United States   \n",
       "5  Erdal Beşikçioğlu, Yasemin Allen, Melis Birkan...         Turkey   \n",
       "\n",
       "        Release_Date Rating  Duration  \\\n",
       "1  December 23, 2016  TV-MA    93 min   \n",
       "2  December 20, 2018      R    78 min   \n",
       "3  November 16, 2017  PG-13    80 min   \n",
       "4    January 1, 2020  PG-13   123 min   \n",
       "5       July 1, 2017  TV-MA  1 Season   \n",
       "\n",
       "                                                Type  \\\n",
       "1                       Dramas, International Movies   \n",
       "2                Horror Movies, International Movies   \n",
       "3  Action & Adventure, Independent Movies, Sci-Fi...   \n",
       "4                                             Dramas   \n",
       "5    International TV Shows, TV Dramas, TV Mysteries   \n",
       "\n",
       "                                         Description  Date_Year    Year  \\\n",
       "1  After a devastating earthquake hits Mexico Cit... 2016-12-23  2016.0   \n",
       "2  When an army recruit is found dead, his fellow... 2018-12-20  2018.0   \n",
       "3  In a postapocalyptic world, rag-doll robots hi... 2017-11-16  2017.0   \n",
       "4  A brilliant group of students become card-coun... 2020-01-01  2020.0   \n",
       "5  A genetics professor experiments with a treatm... 2017-07-01  2017.0   \n",
       "\n",
       "  minutes seasons  \n",
       "1      93     min  \n",
       "2      78     min  \n",
       "3      80     min  \n",
       "4     123     min  \n",
       "5       1  Season  "
      ]
     },
     "execution_count": 44,
     "metadata": {},
     "output_type": "execute_result"
    }
   ],
   "source": [
    "Data_new.head()"
   ]
  },
  {
   "cell_type": "code",
   "execution_count": 45,
   "id": "da1636f9-1d92-41c0-9318-72a582f5e7bf",
   "metadata": {
    "tags": []
   },
   "outputs": [
    {
     "data": {
      "text/plain": [
       "'99'"
      ]
     },
     "execution_count": 45,
     "metadata": {},
     "output_type": "execute_result"
    }
   ],
   "source": [
    "Data_new['minutes'].max()"
   ]
  },
  {
   "cell_type": "code",
   "execution_count": 46,
   "id": "719fd046-2631-4eeb-a8a7-90063bc3179b",
   "metadata": {
    "tags": []
   },
   "outputs": [
    {
     "data": {
      "text/plain": [
       "'1'"
      ]
     },
     "execution_count": 46,
     "metadata": {},
     "output_type": "execute_result"
    }
   ],
   "source": [
    "Data_new['minutes'].min()"
   ]
  },
  {
   "cell_type": "code",
   "execution_count": 47,
   "id": "c0ae9e1c-386f-4330-aff4-938fed300e40",
   "metadata": {
    "tags": []
   },
   "outputs": [
    {
     "name": "stdout",
     "output_type": "stream",
     "text": [
      "<class 'pandas.core.frame.DataFrame'>\n",
      "Int64Index: 4809 entries, 1 to 7785\n",
      "Data columns (total 15 columns):\n",
      " #   Column        Non-Null Count  Dtype         \n",
      "---  ------        --------------  -----         \n",
      " 0   Show_Id       4809 non-null   object        \n",
      " 1   Category      4809 non-null   object        \n",
      " 2   Title         4809 non-null   object        \n",
      " 3   Director      4809 non-null   object        \n",
      " 4   Cast          4809 non-null   object        \n",
      " 5   Country       4809 non-null   object        \n",
      " 6   Release_Date  4809 non-null   object        \n",
      " 7   Rating        4809 non-null   object        \n",
      " 8   Duration      4809 non-null   object        \n",
      " 9   Type          4809 non-null   object        \n",
      " 10  Description   4809 non-null   object        \n",
      " 11  Date_Year     4809 non-null   datetime64[ns]\n",
      " 12  Year          4809 non-null   float64       \n",
      " 13  minutes       4809 non-null   object        \n",
      " 14  seasons       4809 non-null   object        \n",
      "dtypes: datetime64[ns](1), float64(1), object(13)\n",
      "memory usage: 601.1+ KB\n"
     ]
    }
   ],
   "source": [
    "Data_new.info()"
   ]
  },
  {
   "cell_type": "markdown",
   "id": "c44eb941-4a8d-4e1b-af76-f647e5ba37d2",
   "metadata": {},
   "source": [
    "### country name which has maximum number of TV shows"
   ]
  },
  {
   "cell_type": "code",
   "execution_count": 48,
   "id": "e469df8c-17bd-48bc-a367-244913f06455",
   "metadata": {
    "tags": []
   },
   "outputs": [
    {
     "data": {
      "text/html": [
       "<div>\n",
       "<style scoped>\n",
       "    .dataframe tbody tr th:only-of-type {\n",
       "        vertical-align: middle;\n",
       "    }\n",
       "\n",
       "    .dataframe tbody tr th {\n",
       "        vertical-align: top;\n",
       "    }\n",
       "\n",
       "    .dataframe thead th {\n",
       "        text-align: right;\n",
       "    }\n",
       "</style>\n",
       "<table border=\"1\" class=\"dataframe\">\n",
       "  <thead>\n",
       "    <tr style=\"text-align: right;\">\n",
       "      <th></th>\n",
       "      <th>Show_Id</th>\n",
       "      <th>Category</th>\n",
       "      <th>Title</th>\n",
       "      <th>Director</th>\n",
       "      <th>Cast</th>\n",
       "      <th>Country</th>\n",
       "      <th>Release_Date</th>\n",
       "      <th>Rating</th>\n",
       "      <th>Duration</th>\n",
       "      <th>Type</th>\n",
       "      <th>Description</th>\n",
       "      <th>Date_Year</th>\n",
       "      <th>Year</th>\n",
       "      <th>minutes</th>\n",
       "      <th>seasons</th>\n",
       "    </tr>\n",
       "  </thead>\n",
       "  <tbody>\n",
       "    <tr>\n",
       "      <th>1</th>\n",
       "      <td>s2</td>\n",
       "      <td>Movie</td>\n",
       "      <td>07:19</td>\n",
       "      <td>Jorge Michel Grau</td>\n",
       "      <td>Demián Bichir, Héctor Bonilla, Oscar Serrano, ...</td>\n",
       "      <td>Mexico</td>\n",
       "      <td>December 23, 2016</td>\n",
       "      <td>TV-MA</td>\n",
       "      <td>93 min</td>\n",
       "      <td>Dramas, International Movies</td>\n",
       "      <td>After a devastating earthquake hits Mexico Cit...</td>\n",
       "      <td>2016-12-23</td>\n",
       "      <td>2016.0</td>\n",
       "      <td>93</td>\n",
       "      <td>min</td>\n",
       "    </tr>\n",
       "    <tr>\n",
       "      <th>2</th>\n",
       "      <td>s3</td>\n",
       "      <td>Movie</td>\n",
       "      <td>23:59</td>\n",
       "      <td>Gilbert Chan</td>\n",
       "      <td>Tedd Chan, Stella Chung, Henley Hii, Lawrence ...</td>\n",
       "      <td>Singapore</td>\n",
       "      <td>December 20, 2018</td>\n",
       "      <td>R</td>\n",
       "      <td>78 min</td>\n",
       "      <td>Horror Movies, International Movies</td>\n",
       "      <td>When an army recruit is found dead, his fellow...</td>\n",
       "      <td>2018-12-20</td>\n",
       "      <td>2018.0</td>\n",
       "      <td>78</td>\n",
       "      <td>min</td>\n",
       "    </tr>\n",
       "    <tr>\n",
       "      <th>3</th>\n",
       "      <td>s4</td>\n",
       "      <td>Movie</td>\n",
       "      <td>9</td>\n",
       "      <td>Shane Acker</td>\n",
       "      <td>Elijah Wood, John C. Reilly, Jennifer Connelly...</td>\n",
       "      <td>United States</td>\n",
       "      <td>November 16, 2017</td>\n",
       "      <td>PG-13</td>\n",
       "      <td>80 min</td>\n",
       "      <td>Action &amp; Adventure, Independent Movies, Sci-Fi...</td>\n",
       "      <td>In a postapocalyptic world, rag-doll robots hi...</td>\n",
       "      <td>2017-11-16</td>\n",
       "      <td>2017.0</td>\n",
       "      <td>80</td>\n",
       "      <td>min</td>\n",
       "    </tr>\n",
       "    <tr>\n",
       "      <th>4</th>\n",
       "      <td>s5</td>\n",
       "      <td>Movie</td>\n",
       "      <td>21</td>\n",
       "      <td>Robert Luketic</td>\n",
       "      <td>Jim Sturgess, Kevin Spacey, Kate Bosworth, Aar...</td>\n",
       "      <td>United States</td>\n",
       "      <td>January 1, 2020</td>\n",
       "      <td>PG-13</td>\n",
       "      <td>123 min</td>\n",
       "      <td>Dramas</td>\n",
       "      <td>A brilliant group of students become card-coun...</td>\n",
       "      <td>2020-01-01</td>\n",
       "      <td>2020.0</td>\n",
       "      <td>123</td>\n",
       "      <td>min</td>\n",
       "    </tr>\n",
       "    <tr>\n",
       "      <th>5</th>\n",
       "      <td>s6</td>\n",
       "      <td>TV Show</td>\n",
       "      <td>46</td>\n",
       "      <td>Serdar Akar</td>\n",
       "      <td>Erdal Beşikçioğlu, Yasemin Allen, Melis Birkan...</td>\n",
       "      <td>Turkey</td>\n",
       "      <td>July 1, 2017</td>\n",
       "      <td>TV-MA</td>\n",
       "      <td>1 Season</td>\n",
       "      <td>International TV Shows, TV Dramas, TV Mysteries</td>\n",
       "      <td>A genetics professor experiments with a treatm...</td>\n",
       "      <td>2017-07-01</td>\n",
       "      <td>2017.0</td>\n",
       "      <td>1</td>\n",
       "      <td>Season</td>\n",
       "    </tr>\n",
       "  </tbody>\n",
       "</table>\n",
       "</div>"
      ],
      "text/plain": [
       "  Show_Id Category  Title           Director  \\\n",
       "1      s2    Movie  07:19  Jorge Michel Grau   \n",
       "2      s3    Movie  23:59       Gilbert Chan   \n",
       "3      s4    Movie      9        Shane Acker   \n",
       "4      s5    Movie     21     Robert Luketic   \n",
       "5      s6  TV Show     46        Serdar Akar   \n",
       "\n",
       "                                                Cast        Country  \\\n",
       "1  Demián Bichir, Héctor Bonilla, Oscar Serrano, ...         Mexico   \n",
       "2  Tedd Chan, Stella Chung, Henley Hii, Lawrence ...      Singapore   \n",
       "3  Elijah Wood, John C. Reilly, Jennifer Connelly...  United States   \n",
       "4  Jim Sturgess, Kevin Spacey, Kate Bosworth, Aar...  United States   \n",
       "5  Erdal Beşikçioğlu, Yasemin Allen, Melis Birkan...         Turkey   \n",
       "\n",
       "        Release_Date Rating  Duration  \\\n",
       "1  December 23, 2016  TV-MA    93 min   \n",
       "2  December 20, 2018      R    78 min   \n",
       "3  November 16, 2017  PG-13    80 min   \n",
       "4    January 1, 2020  PG-13   123 min   \n",
       "5       July 1, 2017  TV-MA  1 Season   \n",
       "\n",
       "                                                Type  \\\n",
       "1                       Dramas, International Movies   \n",
       "2                Horror Movies, International Movies   \n",
       "3  Action & Adventure, Independent Movies, Sci-Fi...   \n",
       "4                                             Dramas   \n",
       "5    International TV Shows, TV Dramas, TV Mysteries   \n",
       "\n",
       "                                         Description  Date_Year    Year  \\\n",
       "1  After a devastating earthquake hits Mexico Cit... 2016-12-23  2016.0   \n",
       "2  When an army recruit is found dead, his fellow... 2018-12-20  2018.0   \n",
       "3  In a postapocalyptic world, rag-doll robots hi... 2017-11-16  2017.0   \n",
       "4  A brilliant group of students become card-coun... 2020-01-01  2020.0   \n",
       "5  A genetics professor experiments with a treatm... 2017-07-01  2017.0   \n",
       "\n",
       "  minutes seasons  \n",
       "1      93     min  \n",
       "2      78     min  \n",
       "3      80     min  \n",
       "4     123     min  \n",
       "5       1  Season  "
      ]
     },
     "execution_count": 48,
     "metadata": {},
     "output_type": "execute_result"
    }
   ],
   "source": [
    "Data_new.head()"
   ]
  },
  {
   "cell_type": "code",
   "execution_count": 49,
   "id": "e092742c-3939-4cb4-80a1-2d4137c86be1",
   "metadata": {
    "tags": []
   },
   "outputs": [
    {
     "name": "stdout",
     "output_type": "stream",
     "text": [
      "<class 'pandas.core.frame.DataFrame'>\n",
      "Int64Index: 136 entries, 5 to 7723\n",
      "Data columns (total 15 columns):\n",
      " #   Column        Non-Null Count  Dtype         \n",
      "---  ------        --------------  -----         \n",
      " 0   Show_Id       136 non-null    object        \n",
      " 1   Category      136 non-null    object        \n",
      " 2   Title         136 non-null    object        \n",
      " 3   Director      136 non-null    object        \n",
      " 4   Cast          136 non-null    object        \n",
      " 5   Country       136 non-null    object        \n",
      " 6   Release_Date  136 non-null    object        \n",
      " 7   Rating        136 non-null    object        \n",
      " 8   Duration      136 non-null    object        \n",
      " 9   Type          136 non-null    object        \n",
      " 10  Description   136 non-null    object        \n",
      " 11  Date_Year     136 non-null    datetime64[ns]\n",
      " 12  Year          136 non-null    float64       \n",
      " 13  minutes       136 non-null    object        \n",
      " 14  seasons       136 non-null    object        \n",
      "dtypes: datetime64[ns](1), float64(1), object(13)\n",
      "memory usage: 17.0+ KB\n"
     ]
    }
   ],
   "source": [
    "TV_Show=Data_new[Data_new['Category'] == \"TV Show\"]\n",
    "TV_Show.info()"
   ]
  },
  {
   "cell_type": "code",
   "execution_count": 50,
   "id": "1ebb4016-e9d5-4582-a576-9b36735450f7",
   "metadata": {
    "tags": []
   },
   "outputs": [
    {
     "data": {
      "text/html": [
       "<div>\n",
       "<style scoped>\n",
       "    .dataframe tbody tr th:only-of-type {\n",
       "        vertical-align: middle;\n",
       "    }\n",
       "\n",
       "    .dataframe tbody tr th {\n",
       "        vertical-align: top;\n",
       "    }\n",
       "\n",
       "    .dataframe thead th {\n",
       "        text-align: right;\n",
       "    }\n",
       "</style>\n",
       "<table border=\"1\" class=\"dataframe\">\n",
       "  <thead>\n",
       "    <tr style=\"text-align: right;\">\n",
       "      <th></th>\n",
       "      <th>Show_Id</th>\n",
       "      <th>Category</th>\n",
       "      <th>Title</th>\n",
       "      <th>Director</th>\n",
       "      <th>Cast</th>\n",
       "      <th>Country</th>\n",
       "      <th>Release_Date</th>\n",
       "      <th>Rating</th>\n",
       "      <th>Duration</th>\n",
       "      <th>Type</th>\n",
       "      <th>Description</th>\n",
       "      <th>Date_Year</th>\n",
       "      <th>Year</th>\n",
       "      <th>minutes</th>\n",
       "      <th>seasons</th>\n",
       "    </tr>\n",
       "  </thead>\n",
       "  <tbody>\n",
       "    <tr>\n",
       "      <th>5</th>\n",
       "      <td>s6</td>\n",
       "      <td>TV Show</td>\n",
       "      <td>46</td>\n",
       "      <td>Serdar Akar</td>\n",
       "      <td>Erdal Beşikçioğlu, Yasemin Allen, Melis Birkan...</td>\n",
       "      <td>Turkey</td>\n",
       "      <td>July 1, 2017</td>\n",
       "      <td>TV-MA</td>\n",
       "      <td>1 Season</td>\n",
       "      <td>International TV Shows, TV Dramas, TV Mysteries</td>\n",
       "      <td>A genetics professor experiments with a treatm...</td>\n",
       "      <td>2017-07-01</td>\n",
       "      <td>2017.0</td>\n",
       "      <td>1</td>\n",
       "      <td>Season</td>\n",
       "    </tr>\n",
       "    <tr>\n",
       "      <th>132</th>\n",
       "      <td>s133</td>\n",
       "      <td>TV Show</td>\n",
       "      <td>7 (Seven)</td>\n",
       "      <td>Nizar Shafi</td>\n",
       "      <td>Rahman, Havish, Regina Cassandra, Nandita Swet...</td>\n",
       "      <td>India</td>\n",
       "      <td>July 30, 2019</td>\n",
       "      <td>TV-14</td>\n",
       "      <td>1 Season</td>\n",
       "      <td>TV Shows</td>\n",
       "      <td>Multiple women report their husbands as missin...</td>\n",
       "      <td>2019-07-30</td>\n",
       "      <td>2019.0</td>\n",
       "      <td>1</td>\n",
       "      <td>Season</td>\n",
       "    </tr>\n",
       "    <tr>\n",
       "      <th>218</th>\n",
       "      <td>s219</td>\n",
       "      <td>TV Show</td>\n",
       "      <td>A Queen Is Born</td>\n",
       "      <td>Carla Barros</td>\n",
       "      <td>Gloria Groove, Alexia Twister</td>\n",
       "      <td>Brazil</td>\n",
       "      <td>November 11, 2020</td>\n",
       "      <td>TV-14</td>\n",
       "      <td>1 Season</td>\n",
       "      <td>International TV Shows, Reality TV</td>\n",
       "      <td>Gloria Groove and Alexia Twister make drag dre...</td>\n",
       "      <td>2020-11-11</td>\n",
       "      <td>2020.0</td>\n",
       "      <td>1</td>\n",
       "      <td>Season</td>\n",
       "    </tr>\n",
       "    <tr>\n",
       "      <th>260</th>\n",
       "      <td>s261</td>\n",
       "      <td>TV Show</td>\n",
       "      <td>A.I.C.O.</td>\n",
       "      <td>Kazuya Murata</td>\n",
       "      <td>Haruka Shiraishi, Yusuke Kobayashi, Makoto Fur...</td>\n",
       "      <td>Japan</td>\n",
       "      <td>March 9, 2018</td>\n",
       "      <td>TV-14</td>\n",
       "      <td>1 Season</td>\n",
       "      <td>Anime Series, International TV Shows</td>\n",
       "      <td>Everything Aiko knew was a lie. Now she's join...</td>\n",
       "      <td>2018-03-09</td>\n",
       "      <td>2018.0</td>\n",
       "      <td>1</td>\n",
       "      <td>Season</td>\n",
       "    </tr>\n",
       "    <tr>\n",
       "      <th>276</th>\n",
       "      <td>s277</td>\n",
       "      <td>TV Show</td>\n",
       "      <td>Abby Hatcher</td>\n",
       "      <td>Kyran Kelly</td>\n",
       "      <td>Macy Drouin, Wyatt White, Paul Sun-Hyung Lee, ...</td>\n",
       "      <td>United States, Canada</td>\n",
       "      <td>July 1, 2020</td>\n",
       "      <td>TV-Y</td>\n",
       "      <td>1 Season</td>\n",
       "      <td>Kids' TV</td>\n",
       "      <td>A big-hearted girl helps her Fuzzly friends wh...</td>\n",
       "      <td>2020-07-01</td>\n",
       "      <td>2020.0</td>\n",
       "      <td>1</td>\n",
       "      <td>Season</td>\n",
       "    </tr>\n",
       "  </tbody>\n",
       "</table>\n",
       "</div>"
      ],
      "text/plain": [
       "    Show_Id Category            Title       Director  \\\n",
       "5        s6  TV Show               46    Serdar Akar   \n",
       "132    s133  TV Show        7 (Seven)    Nizar Shafi   \n",
       "218    s219  TV Show  A Queen Is Born   Carla Barros   \n",
       "260    s261  TV Show         A.I.C.O.  Kazuya Murata   \n",
       "276    s277  TV Show     Abby Hatcher    Kyran Kelly   \n",
       "\n",
       "                                                  Cast                Country  \\\n",
       "5    Erdal Beşikçioğlu, Yasemin Allen, Melis Birkan...                 Turkey   \n",
       "132  Rahman, Havish, Regina Cassandra, Nandita Swet...                  India   \n",
       "218                      Gloria Groove, Alexia Twister                 Brazil   \n",
       "260  Haruka Shiraishi, Yusuke Kobayashi, Makoto Fur...                  Japan   \n",
       "276  Macy Drouin, Wyatt White, Paul Sun-Hyung Lee, ...  United States, Canada   \n",
       "\n",
       "          Release_Date Rating  Duration  \\\n",
       "5         July 1, 2017  TV-MA  1 Season   \n",
       "132      July 30, 2019  TV-14  1 Season   \n",
       "218  November 11, 2020  TV-14  1 Season   \n",
       "260      March 9, 2018  TV-14  1 Season   \n",
       "276       July 1, 2020   TV-Y  1 Season   \n",
       "\n",
       "                                                Type  \\\n",
       "5    International TV Shows, TV Dramas, TV Mysteries   \n",
       "132                                         TV Shows   \n",
       "218               International TV Shows, Reality TV   \n",
       "260             Anime Series, International TV Shows   \n",
       "276                                         Kids' TV   \n",
       "\n",
       "                                           Description  Date_Year    Year  \\\n",
       "5    A genetics professor experiments with a treatm... 2017-07-01  2017.0   \n",
       "132  Multiple women report their husbands as missin... 2019-07-30  2019.0   \n",
       "218  Gloria Groove and Alexia Twister make drag dre... 2020-11-11  2020.0   \n",
       "260  Everything Aiko knew was a lie. Now she's join... 2018-03-09  2018.0   \n",
       "276  A big-hearted girl helps her Fuzzly friends wh... 2020-07-01  2020.0   \n",
       "\n",
       "    minutes seasons  \n",
       "5         1  Season  \n",
       "132       1  Season  \n",
       "218       1  Season  \n",
       "260       1  Season  \n",
       "276       1  Season  "
      ]
     },
     "execution_count": 50,
     "metadata": {},
     "output_type": "execute_result"
    }
   ],
   "source": [
    "TV_Show.head(5)"
   ]
  },
  {
   "cell_type": "code",
   "execution_count": 51,
   "id": "64e0022f-9bfe-4676-856d-3dfc0343bb39",
   "metadata": {
    "tags": []
   },
   "outputs": [
    {
     "data": {
      "text/plain": [
       "United States                                                    27\n",
       "United Kingdom                                                   19\n",
       "Japan                                                            10\n",
       "South Korea                                                      10\n",
       "Spain                                                             7\n",
       "Taiwan                                                            6\n",
       "Turkey                                                            5\n",
       "India                                                             5\n",
       "Brazil                                                            4\n",
       "Canada                                                            3\n",
       "Thailand                                                          3\n",
       "Nigeria                                                           3\n",
       "France                                                            3\n",
       "China                                                             2\n",
       "Italy                                                             2\n",
       "Denmark                                                           2\n",
       "United States, Canada                                             2\n",
       "Mexico                                                            1\n",
       "Mexico, United States                                             1\n",
       "United Kingdom, Ireland, United States                            1\n",
       "Russia                                                            1\n",
       "Belgium                                                           1\n",
       "Poland                                                            1\n",
       "Taiwan, Malaysia                                                  1\n",
       "United Kingdom, Germany, United States, France                    1\n",
       "Canada, United Kingdom, United States                             1\n",
       "Mexico, Spain                                                     1\n",
       "Saudi Arabia                                                      1\n",
       "Argentina                                                         1\n",
       "Pakistan                                                          1\n",
       "India, United States                                              1\n",
       "Australia                                                         1\n",
       "France, South Korea, Japan                                        1\n",
       "Colombia                                                          1\n",
       "Colombia, Mexico, United States                                   1\n",
       "United States, Ireland                                            1\n",
       "United States, Israel, Italy, South Africa                        1\n",
       "Italy, Canada, France                                             1\n",
       "United Kingdom, United States, Spain, Germany, Greece, Canada     1\n",
       "Italy, United States                                              1\n",
       "Name: Country, dtype: int64"
      ]
     },
     "execution_count": 51,
     "metadata": {},
     "output_type": "execute_result"
    }
   ],
   "source": [
    "TV_Show[\"Country\"].value_counts()"
   ]
  },
  {
   "cell_type": "code",
   "execution_count": 52,
   "id": "e86231af-ae55-4aae-8751-8f15dfc8194c",
   "metadata": {
    "tags": []
   },
   "outputs": [
    {
     "name": "stdout",
     "output_type": "stream",
     "text": [
      "<class 'pandas.core.frame.DataFrame'>\n",
      "Int64Index: 4809 entries, 1 to 7785\n",
      "Data columns (total 15 columns):\n",
      " #   Column        Non-Null Count  Dtype         \n",
      "---  ------        --------------  -----         \n",
      " 0   Show_Id       4809 non-null   object        \n",
      " 1   Category      4809 non-null   object        \n",
      " 2   Title         4809 non-null   object        \n",
      " 3   Director      4809 non-null   object        \n",
      " 4   Cast          4809 non-null   object        \n",
      " 5   Country       4809 non-null   object        \n",
      " 6   Release_Date  4809 non-null   object        \n",
      " 7   Rating        4809 non-null   object        \n",
      " 8   Duration      4809 non-null   object        \n",
      " 9   Type          4809 non-null   object        \n",
      " 10  Description   4809 non-null   object        \n",
      " 11  Date_Year     4809 non-null   datetime64[ns]\n",
      " 12  Year          4809 non-null   float64       \n",
      " 13  minutes       4809 non-null   object        \n",
      " 14  seasons       4809 non-null   object        \n",
      "dtypes: datetime64[ns](1), float64(1), object(13)\n",
      "memory usage: 601.1+ KB\n"
     ]
    }
   ],
   "source": [
    "Data_new.info()"
   ]
  },
  {
   "cell_type": "markdown",
   "id": "36d0ea5d-0056-4ef3-a4b4-cca868704324",
   "metadata": {},
   "source": [
    "### Sort the data by Year"
   ]
  },
  {
   "cell_type": "code",
   "execution_count": 61,
   "id": "4f5109e7-1605-4f77-8c4e-4787799a1afd",
   "metadata": {
    "tags": []
   },
   "outputs": [
    {
     "data": {
      "text/html": [
       "<div>\n",
       "<style scoped>\n",
       "    .dataframe tbody tr th:only-of-type {\n",
       "        vertical-align: middle;\n",
       "    }\n",
       "\n",
       "    .dataframe tbody tr th {\n",
       "        vertical-align: top;\n",
       "    }\n",
       "\n",
       "    .dataframe thead th {\n",
       "        text-align: right;\n",
       "    }\n",
       "</style>\n",
       "<table border=\"1\" class=\"dataframe\">\n",
       "  <thead>\n",
       "    <tr style=\"text-align: right;\">\n",
       "      <th></th>\n",
       "      <th>Show_Id</th>\n",
       "      <th>Category</th>\n",
       "      <th>Title</th>\n",
       "      <th>Director</th>\n",
       "      <th>Cast</th>\n",
       "      <th>Country</th>\n",
       "      <th>Release_Date</th>\n",
       "      <th>Rating</th>\n",
       "      <th>Duration</th>\n",
       "      <th>Type</th>\n",
       "      <th>Description</th>\n",
       "      <th>Date_Year</th>\n",
       "      <th>Year</th>\n",
       "      <th>minutes</th>\n",
       "      <th>seasons</th>\n",
       "    </tr>\n",
       "  </thead>\n",
       "  <tbody>\n",
       "    <tr>\n",
       "      <th>2269</th>\n",
       "      <td>s2270</td>\n",
       "      <td>Movie</td>\n",
       "      <td>Fred Claus</td>\n",
       "      <td>David Dobkin</td>\n",
       "      <td>Vince Vaughn, Paul Giamatti, John Michael Higg...</td>\n",
       "      <td>United States</td>\n",
       "      <td>January 1, 2021</td>\n",
       "      <td>PG</td>\n",
       "      <td>115 min</td>\n",
       "      <td>Children &amp; Family Movies, Comedies</td>\n",
       "      <td>The holiday season is ruined for Santa Claus w...</td>\n",
       "      <td>2021-01-01</td>\n",
       "      <td>2021.0</td>\n",
       "      <td>115</td>\n",
       "      <td>min</td>\n",
       "    </tr>\n",
       "    <tr>\n",
       "      <th>2349</th>\n",
       "      <td>s2350</td>\n",
       "      <td>Movie</td>\n",
       "      <td>Gangaajal</td>\n",
       "      <td>Prakash Jha</td>\n",
       "      <td>Ajay Devgn, Gracy Singh, Mohan Agashe, Mohan J...</td>\n",
       "      <td>India</td>\n",
       "      <td>January 8, 2021</td>\n",
       "      <td>TV-MA</td>\n",
       "      <td>148 min</td>\n",
       "      <td>Dramas, International Movies</td>\n",
       "      <td>Posted to a small, crime-ridden town, a cop so...</td>\n",
       "      <td>2021-01-08</td>\n",
       "      <td>2021.0</td>\n",
       "      <td>148</td>\n",
       "      <td>min</td>\n",
       "    </tr>\n",
       "    <tr>\n",
       "      <th>6248</th>\n",
       "      <td>s6248</td>\n",
       "      <td>Movie</td>\n",
       "      <td>The Creative Brain</td>\n",
       "      <td>Jennifer Beamish, Toby Trackman</td>\n",
       "      <td>David Eagleman</td>\n",
       "      <td>United States</td>\n",
       "      <td>January 1, 2021</td>\n",
       "      <td>TV-14</td>\n",
       "      <td>53 min</td>\n",
       "      <td>Documentaries</td>\n",
       "      <td>Neuroscientist David Eagleman taps into the cr...</td>\n",
       "      <td>2021-01-01</td>\n",
       "      <td>2021.0</td>\n",
       "      <td>53</td>\n",
       "      <td>min</td>\n",
       "    </tr>\n",
       "    <tr>\n",
       "      <th>1673</th>\n",
       "      <td>s1674</td>\n",
       "      <td>Movie</td>\n",
       "      <td>Death of Me</td>\n",
       "      <td>Darren Lynn Bousman</td>\n",
       "      <td>Maggie Q, Luke Hemsworth, Alex Essoe, Ingkarat...</td>\n",
       "      <td>United States, Thailand</td>\n",
       "      <td>January 16, 2021</td>\n",
       "      <td>R</td>\n",
       "      <td>94 min</td>\n",
       "      <td>Horror Movies</td>\n",
       "      <td>With no memory of the previous night, a vacati...</td>\n",
       "      <td>2021-01-16</td>\n",
       "      <td>2021.0</td>\n",
       "      <td>94</td>\n",
       "      <td>min</td>\n",
       "    </tr>\n",
       "    <tr>\n",
       "      <th>7147</th>\n",
       "      <td>s7146</td>\n",
       "      <td>Movie</td>\n",
       "      <td>Tony Parker: The Final Shot</td>\n",
       "      <td>Florent Bodin</td>\n",
       "      <td>Tony Parker</td>\n",
       "      <td>France</td>\n",
       "      <td>January 6, 2021</td>\n",
       "      <td>TV-14</td>\n",
       "      <td>99 min</td>\n",
       "      <td>Documentaries, International Movies, Sports Mo...</td>\n",
       "      <td>This film examines the background and career o...</td>\n",
       "      <td>2021-01-06</td>\n",
       "      <td>2021.0</td>\n",
       "      <td>99</td>\n",
       "      <td>min</td>\n",
       "    </tr>\n",
       "  </tbody>\n",
       "</table>\n",
       "</div>"
      ],
      "text/plain": [
       "     Show_Id Category                        Title  \\\n",
       "2269   s2270    Movie                   Fred Claus   \n",
       "2349   s2350    Movie                    Gangaajal   \n",
       "6248   s6248    Movie           The Creative Brain   \n",
       "1673   s1674    Movie                  Death of Me   \n",
       "7147   s7146    Movie  Tony Parker: The Final Shot   \n",
       "\n",
       "                             Director  \\\n",
       "2269                     David Dobkin   \n",
       "2349                      Prakash Jha   \n",
       "6248  Jennifer Beamish, Toby Trackman   \n",
       "1673              Darren Lynn Bousman   \n",
       "7147                    Florent Bodin   \n",
       "\n",
       "                                                   Cast  \\\n",
       "2269  Vince Vaughn, Paul Giamatti, John Michael Higg...   \n",
       "2349  Ajay Devgn, Gracy Singh, Mohan Agashe, Mohan J...   \n",
       "6248                                     David Eagleman   \n",
       "1673  Maggie Q, Luke Hemsworth, Alex Essoe, Ingkarat...   \n",
       "7147                                        Tony Parker   \n",
       "\n",
       "                      Country      Release_Date Rating Duration  \\\n",
       "2269            United States   January 1, 2021     PG  115 min   \n",
       "2349                    India   January 8, 2021  TV-MA  148 min   \n",
       "6248            United States   January 1, 2021  TV-14   53 min   \n",
       "1673  United States, Thailand  January 16, 2021      R   94 min   \n",
       "7147                   France   January 6, 2021  TV-14   99 min   \n",
       "\n",
       "                                                   Type  \\\n",
       "2269                 Children & Family Movies, Comedies   \n",
       "2349                       Dramas, International Movies   \n",
       "6248                                      Documentaries   \n",
       "1673                                      Horror Movies   \n",
       "7147  Documentaries, International Movies, Sports Mo...   \n",
       "\n",
       "                                            Description  Date_Year    Year  \\\n",
       "2269  The holiday season is ruined for Santa Claus w... 2021-01-01  2021.0   \n",
       "2349  Posted to a small, crime-ridden town, a cop so... 2021-01-08  2021.0   \n",
       "6248  Neuroscientist David Eagleman taps into the cr... 2021-01-01  2021.0   \n",
       "1673  With no memory of the previous night, a vacati... 2021-01-16  2021.0   \n",
       "7147  This film examines the background and career o... 2021-01-06  2021.0   \n",
       "\n",
       "     minutes seasons  \n",
       "2269     115     min  \n",
       "2349     148     min  \n",
       "6248      53     min  \n",
       "1673      94     min  \n",
       "7147      99     min  "
      ]
     },
     "execution_count": 61,
     "metadata": {},
     "output_type": "execute_result"
    }
   ],
   "source": [
    "Data_new.sort_values(by=\"Year\",ascending=False).head()"
   ]
  },
  {
   "cell_type": "markdown",
   "id": "c9b60c40-9bed-4884-955b-a393003c8e2a",
   "metadata": {},
   "source": [
    "### Movie with dramas or TV Shows for Kids "
   ]
  },
  {
   "cell_type": "code",
   "execution_count": 62,
   "id": "77b2fef1-88c6-404c-834e-dc418ab0e784",
   "metadata": {
    "tags": []
   },
   "outputs": [
    {
     "data": {
      "text/html": [
       "<div>\n",
       "<style scoped>\n",
       "    .dataframe tbody tr th:only-of-type {\n",
       "        vertical-align: middle;\n",
       "    }\n",
       "\n",
       "    .dataframe tbody tr th {\n",
       "        vertical-align: top;\n",
       "    }\n",
       "\n",
       "    .dataframe thead th {\n",
       "        text-align: right;\n",
       "    }\n",
       "</style>\n",
       "<table border=\"1\" class=\"dataframe\">\n",
       "  <thead>\n",
       "    <tr style=\"text-align: right;\">\n",
       "      <th></th>\n",
       "      <th>Show_Id</th>\n",
       "      <th>Category</th>\n",
       "      <th>Title</th>\n",
       "      <th>Director</th>\n",
       "      <th>Cast</th>\n",
       "      <th>Country</th>\n",
       "      <th>Release_Date</th>\n",
       "      <th>Rating</th>\n",
       "      <th>Duration</th>\n",
       "      <th>Type</th>\n",
       "      <th>Description</th>\n",
       "      <th>Date_Year</th>\n",
       "      <th>Year</th>\n",
       "      <th>minutes</th>\n",
       "      <th>seasons</th>\n",
       "    </tr>\n",
       "  </thead>\n",
       "  <tbody>\n",
       "    <tr>\n",
       "      <th>1</th>\n",
       "      <td>s2</td>\n",
       "      <td>Movie</td>\n",
       "      <td>07:19</td>\n",
       "      <td>Jorge Michel Grau</td>\n",
       "      <td>Demián Bichir, Héctor Bonilla, Oscar Serrano, ...</td>\n",
       "      <td>Mexico</td>\n",
       "      <td>December 23, 2016</td>\n",
       "      <td>TV-MA</td>\n",
       "      <td>93 min</td>\n",
       "      <td>Dramas, International Movies</td>\n",
       "      <td>After a devastating earthquake hits Mexico Cit...</td>\n",
       "      <td>2016-12-23</td>\n",
       "      <td>2016.0</td>\n",
       "      <td>93</td>\n",
       "      <td>min</td>\n",
       "    </tr>\n",
       "    <tr>\n",
       "      <th>4</th>\n",
       "      <td>s5</td>\n",
       "      <td>Movie</td>\n",
       "      <td>21</td>\n",
       "      <td>Robert Luketic</td>\n",
       "      <td>Jim Sturgess, Kevin Spacey, Kate Bosworth, Aar...</td>\n",
       "      <td>United States</td>\n",
       "      <td>January 1, 2020</td>\n",
       "      <td>PG-13</td>\n",
       "      <td>123 min</td>\n",
       "      <td>Dramas</td>\n",
       "      <td>A brilliant group of students become card-coun...</td>\n",
       "      <td>2020-01-01</td>\n",
       "      <td>2020.0</td>\n",
       "      <td>123</td>\n",
       "      <td>min</td>\n",
       "    </tr>\n",
       "    <tr>\n",
       "      <th>7</th>\n",
       "      <td>s8</td>\n",
       "      <td>Movie</td>\n",
       "      <td>187</td>\n",
       "      <td>Kevin Reynolds</td>\n",
       "      <td>Samuel L. Jackson, John Heard, Kelly Rowan, Cl...</td>\n",
       "      <td>United States</td>\n",
       "      <td>November 1, 2019</td>\n",
       "      <td>R</td>\n",
       "      <td>119 min</td>\n",
       "      <td>Dramas</td>\n",
       "      <td>After one of his high school students attacks ...</td>\n",
       "      <td>2019-11-01</td>\n",
       "      <td>2019.0</td>\n",
       "      <td>119</td>\n",
       "      <td>min</td>\n",
       "    </tr>\n",
       "    <tr>\n",
       "      <th>10</th>\n",
       "      <td>s11</td>\n",
       "      <td>Movie</td>\n",
       "      <td>1922</td>\n",
       "      <td>Zak Hilditch</td>\n",
       "      <td>Thomas Jane, Molly Parker, Dylan Schmid, Kaitl...</td>\n",
       "      <td>United States</td>\n",
       "      <td>October 20, 2017</td>\n",
       "      <td>TV-MA</td>\n",
       "      <td>103 min</td>\n",
       "      <td>Dramas, Thrillers</td>\n",
       "      <td>A farmer pens a confession admitting to his wi...</td>\n",
       "      <td>2017-10-20</td>\n",
       "      <td>2017.0</td>\n",
       "      <td>103</td>\n",
       "      <td>min</td>\n",
       "    </tr>\n",
       "    <tr>\n",
       "      <th>15</th>\n",
       "      <td>s16</td>\n",
       "      <td>Movie</td>\n",
       "      <td>Oct-01</td>\n",
       "      <td>Kunle Afolayan</td>\n",
       "      <td>Sadiq Daba, David Bailie, Kayode Olaiya, Kehin...</td>\n",
       "      <td>Nigeria</td>\n",
       "      <td>September 1, 2019</td>\n",
       "      <td>TV-14</td>\n",
       "      <td>149 min</td>\n",
       "      <td>Dramas, International Movies, Thrillers</td>\n",
       "      <td>Against the backdrop of Nigeria's looming inde...</td>\n",
       "      <td>2019-09-01</td>\n",
       "      <td>2019.0</td>\n",
       "      <td>149</td>\n",
       "      <td>min</td>\n",
       "    </tr>\n",
       "  </tbody>\n",
       "</table>\n",
       "</div>"
      ],
      "text/plain": [
       "   Show_Id Category   Title           Director  \\\n",
       "1       s2    Movie   07:19  Jorge Michel Grau   \n",
       "4       s5    Movie      21     Robert Luketic   \n",
       "7       s8    Movie     187     Kevin Reynolds   \n",
       "10     s11    Movie    1922       Zak Hilditch   \n",
       "15     s16    Movie  Oct-01     Kunle Afolayan   \n",
       "\n",
       "                                                 Cast        Country  \\\n",
       "1   Demián Bichir, Héctor Bonilla, Oscar Serrano, ...         Mexico   \n",
       "4   Jim Sturgess, Kevin Spacey, Kate Bosworth, Aar...  United States   \n",
       "7   Samuel L. Jackson, John Heard, Kelly Rowan, Cl...  United States   \n",
       "10  Thomas Jane, Molly Parker, Dylan Schmid, Kaitl...  United States   \n",
       "15  Sadiq Daba, David Bailie, Kayode Olaiya, Kehin...        Nigeria   \n",
       "\n",
       "         Release_Date Rating Duration  \\\n",
       "1   December 23, 2016  TV-MA   93 min   \n",
       "4     January 1, 2020  PG-13  123 min   \n",
       "7    November 1, 2019      R  119 min   \n",
       "10   October 20, 2017  TV-MA  103 min   \n",
       "15  September 1, 2019  TV-14  149 min   \n",
       "\n",
       "                                       Type  \\\n",
       "1              Dramas, International Movies   \n",
       "4                                    Dramas   \n",
       "7                                    Dramas   \n",
       "10                        Dramas, Thrillers   \n",
       "15  Dramas, International Movies, Thrillers   \n",
       "\n",
       "                                          Description  Date_Year    Year  \\\n",
       "1   After a devastating earthquake hits Mexico Cit... 2016-12-23  2016.0   \n",
       "4   A brilliant group of students become card-coun... 2020-01-01  2020.0   \n",
       "7   After one of his high school students attacks ... 2019-11-01  2019.0   \n",
       "10  A farmer pens a confession admitting to his wi... 2017-10-20  2017.0   \n",
       "15  Against the backdrop of Nigeria's looming inde... 2019-09-01  2019.0   \n",
       "\n",
       "   minutes seasons  \n",
       "1       93     min  \n",
       "4      123     min  \n",
       "7      119     min  \n",
       "10     103     min  \n",
       "15     149     min  "
      ]
     },
     "execution_count": 62,
     "metadata": {},
     "output_type": "execute_result"
    }
   ],
   "source": [
    "Data_new[((Data_new['Category']=='Movie') & (Data_new['Type'].str.contains('Dramas'))) | ((Data_new['Category']==\"TV   Show\") & (Data_new[\"Type\"].str.contains(\"Kids TV\")))].head()"
   ]
  }
 ],
 "metadata": {
  "kernelspec": {
   "display_name": "Python 3 (ipykernel)",
   "language": "python",
   "name": "python3"
  },
  "language_info": {
   "codemirror_mode": {
    "name": "ipython",
    "version": 3
   },
   "file_extension": ".py",
   "mimetype": "text/x-python",
   "name": "python",
   "nbconvert_exporter": "python",
   "pygments_lexer": "ipython3",
   "version": "3.9.16"
  }
 },
 "nbformat": 4,
 "nbformat_minor": 5
}
